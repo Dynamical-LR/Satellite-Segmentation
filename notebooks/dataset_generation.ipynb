{
 "cells": [
  {
   "cell_type": "code",
   "execution_count": 2,
   "metadata": {},
   "outputs": [],
   "source": [
    "import cv2\n",
    "import albumentations as A\n",
    "import matplotlib.pyplot as plt\n",
    "import numpy as np\n",
    "import PIL\n",
    "from PIL import Image\n",
    "from pathlib import Path\n",
    "import os\n",
    "import shutil"
   ]
  },
  {
   "cell_type": "code",
   "execution_count": 3,
   "metadata": {},
   "outputs": [],
   "source": [
    "def custom_plot(img, mask, title=None, size=10):\n",
    "    \"\"\"Plots image and mask\"\"\"\n",
    "    fig = plt.figure(figsize=(size, 4))\n",
    "    if title:\n",
    "        fig.suptitle(f'{title}')\n",
    "    ax = fig.subplots(1, 2)\n",
    "    ax[0].set_xticks([])\n",
    "    ax[0].set_yticks([])\n",
    "    ax[0].imshow(img)\n",
    "    ax[1].set_xticks([])\n",
    "    ax[1].set_yticks([])\n",
    "    ax[1].imshow(mask)\n",
    "    fig.tight_layout()\n",
    "    plt.show()"
   ]
  },
  {
   "cell_type": "markdown",
   "metadata": {},
   "source": [
    "### Generation of crop dataset (train)"
   ]
  },
  {
   "cell_type": "code",
   "execution_count": 4,
   "metadata": {},
   "outputs": [
    {
     "name": "stderr",
     "output_type": "stream",
     "text": [
      "[ WARN:0@1.687] global loadsave.cpp:248 findDecoder imread_('/home/ezhur/datasets/projects/train_updated_titles/train_updated_titiles/images/train_image_000.png'): can't open/read file: check file path/integrity\n"
     ]
    },
    {
     "ename": "error",
     "evalue": "OpenCV(4.8.1) /Users/xperience/GHA-OpenCV-Python/_work/opencv-python/opencv-python/opencv/modules/imgproc/src/color.cpp:182: error: (-215:Assertion failed) !_src.empty() in function 'cvtColor'\n",
     "output_type": "error",
     "traceback": [
      "\u001b[0;31m---------------------------------------------------------------------------\u001b[0m",
      "\u001b[0;31merror\u001b[0m                                     Traceback (most recent call last)",
      "Cell \u001b[0;32mIn[4], line 16\u001b[0m\n\u001b[1;32m     14\u001b[0m img_path \u001b[38;5;241m=\u001b[39m img_folder \u001b[38;5;241m/\u001b[39m img_name\n\u001b[1;32m     15\u001b[0m img \u001b[38;5;241m=\u001b[39m cv2\u001b[38;5;241m.\u001b[39mimread(\u001b[38;5;28mstr\u001b[39m(img_path))\n\u001b[0;32m---> 16\u001b[0m img \u001b[38;5;241m=\u001b[39m \u001b[43mcv2\u001b[49m\u001b[38;5;241;43m.\u001b[39;49m\u001b[43mcvtColor\u001b[49m\u001b[43m(\u001b[49m\u001b[43mimg\u001b[49m\u001b[43m,\u001b[49m\u001b[43m \u001b[49m\u001b[43mcv2\u001b[49m\u001b[38;5;241;43m.\u001b[39;49m\u001b[43mCOLOR_BGR2RGB\u001b[49m\u001b[43m)\u001b[49m\n\u001b[1;32m     18\u001b[0m mask_name \u001b[38;5;241m=\u001b[39m \u001b[38;5;124mf\u001b[39m\u001b[38;5;124m'\u001b[39m\u001b[38;5;124mtrain_mask_\u001b[39m\u001b[38;5;132;01m{\u001b[39;00mnum\u001b[38;5;132;01m}\u001b[39;00m\u001b[38;5;124m.png\u001b[39m\u001b[38;5;124m'\u001b[39m\n\u001b[1;32m     19\u001b[0m mask_path \u001b[38;5;241m=\u001b[39m mask_folder \u001b[38;5;241m/\u001b[39m mask_name\n",
      "\u001b[0;31merror\u001b[0m: OpenCV(4.8.1) /Users/xperience/GHA-OpenCV-Python/_work/opencv-python/opencv-python/opencv/modules/imgproc/src/color.cpp:182: error: (-215:Assertion failed) !_src.empty() in function 'cvtColor'\n"
     ]
    }
   ],
   "source": [
    "# catalog to save results\n",
    "save_cat = Path('../data/processed_data/')\n",
    "\n",
    "# orig dataset catalog\n",
    "cat = Path('datasets/proces')\n",
    "img_folder = cat / 'images'\n",
    "mask_folder = cat / 'masks'\n",
    "\n",
    "\n",
    "for num in range(0, 21): # num of orig samples\n",
    "    num = f'{num:03d}'\n",
    "    # open img, mask\n",
    "    img_name = f'train_image_{num}.png'\n",
    "    img_path = img_folder / img_name\n",
    "    img = cv2.imread(str(img_path))\n",
    "    img = cv2.cvtColor(img, cv2.COLOR_BGR2RGB)\n",
    "\n",
    "    mask_name = f'train_mask_{num}.png'\n",
    "    mask_path = mask_folder / mask_name\n",
    "    mask = cv2.imread(str(mask_path), 0)\n",
    "\n",
    "    for num_rot in range(10): # rotate orig img and mask randomly 10 times\n",
    "        angle_transform = A.Rotate(limit=45, always_apply=True)\n",
    "        angle_transformed = angle_transform(image=img, mask=mask)\n",
    "        img_rot = angle_transformed['image']\n",
    "        mask_rot = angle_transformed['mask']\n",
    "    \n",
    "        for h in range(400, 900, 100): # for each rotation fix crop of size 400...800\n",
    "            save_img_folder = save_cat / f'images_size_{h}'\n",
    "            save_img_folder.mkdir(exist_ok=True)\n",
    "            save_mask_folder = save_cat / f'masks_size_{h}'\n",
    "            save_mask_folder.mkdir(exist_ok=True)\n",
    "\n",
    "            min_max_height = (h, h + 100)\n",
    "            height, width = min_max_height[0], min_max_height[0]\n",
    "            transform = A.Compose([\n",
    "                A.RandomSizedCrop(min_max_height, height, width, always_apply=True),\n",
    "                A.RandomRotate90(p=0.5),\n",
    "                A.HorizontalFlip(p=0.5)\n",
    "            ])\n",
    "\n",
    "            for j in range(25): # for each rotation and fixed cropped size do crop 25 times \n",
    "                save_img_path = save_img_folder / f'{img_name[:-4]}_{num_rot}_{j}_{h}px.png'\n",
    "                save_mask_path = save_mask_folder / f'{mask_name[:-4]}_{num_rot}_{j}_{h}px.png'\n",
    "                \n",
    "                transformed = transform(image=img_rot, mask=mask_rot)\n",
    "                img_cropped = transformed['image']\n",
    "                mask_cropped = transformed['mask']\n",
    "                \n",
    "                img_cropped = cv2.cvtColor(img_cropped, cv2.COLOR_RGB2BGR)\n",
    "                cv2.imwrite(str(save_img_path), img_cropped)\n",
    "                cv2.imwrite(str(save_mask_path), mask_cropped)\n"
   ]
  },
  {
   "cell_type": "code",
   "execution_count": null,
   "metadata": {},
   "outputs": [],
   "source": [
    "# orig sample\n",
    "custom_plot(img, mask)"
   ]
  },
  {
   "cell_type": "code",
   "execution_count": null,
   "metadata": {},
   "outputs": [],
   "source": [
    "# rotated sample\n",
    "custom_plot(img_rot, mask_rot)"
   ]
  },
  {
   "cell_type": "code",
   "execution_count": null,
   "metadata": {},
   "outputs": [],
   "source": [
    "# cropped sample\n",
    "custom_plot(img_cropped, mask_cropped, size=8)"
   ]
  },
  {
   "cell_type": "markdown",
   "metadata": {},
   "source": [
    "### Generation of crop dataset (test)"
   ]
  },
  {
   "cell_type": "code",
   "execution_count": null,
   "metadata": {},
   "outputs": [],
   "source": [
    "# catalog to save results\n",
    "save_cat = Path('/home/ezhur/datasets/projects/satellite_datasets/test/')\n",
    "\n",
    "# orig dataset catalog\n",
    "cat = Path('/home/ezhur/datasets/projects/train_updated_titles/train_updated_titiles')\n",
    "img_folder = cat / 'images'\n",
    "mask_folder = cat / 'masks'\n",
    "\n",
    "test_nums = [16, 17, 19]    # image numbers for test dataset\n",
    "\n",
    "for num in test_nums:\n",
    "    num = f'{num:03d}'\n",
    "    # open img, mask\n",
    "    img_name = f'train_image_{num}.png'\n",
    "    img_path = img_folder / img_name\n",
    "    img = cv2.imread(str(img_path))\n",
    "    img = cv2.cvtColor(img, cv2.COLOR_BGR2RGB)\n",
    "\n",
    "    mask_name = f'train_mask_{num}.png'\n",
    "    mask_path = mask_folder / mask_name\n",
    "    mask = cv2.imread(str(mask_path), 0)\n",
    "\n",
    "    img_shape = mask.shape\n",
    "\n",
    "    for h_crop in range(400, 810, 50):  # size of crop\n",
    "        # for saving result\n",
    "        save_img_folder = save_cat / f'images_size_{h_crop}'\n",
    "        save_img_folder.mkdir(exist_ok=True)\n",
    "        save_mask_folder = save_cat / f'masks_size_{h_crop}'\n",
    "        save_mask_folder.mkdir(exist_ok=True)\n",
    "\n",
    "        # iterate by \"windows\"\n",
    "        for height in range(h_crop, img_shape[1], h_crop):\n",
    "            for width in range(h_crop, img_shape[0], h_crop):\n",
    "                test_transform = A.Crop(height-h_crop, width - h_crop, height, width, always_apply=True)\n",
    "\n",
    "                # number of \"window\"\n",
    "                num_h = int(height/h_crop)\n",
    "                num_w = int(width/h_crop)\n",
    "\n",
    "                save_img_path = save_img_folder / f'{img_name[:-4]}_{num_h}_{num_w}_{h_crop}px.png'\n",
    "                save_mask_path = save_mask_folder / f'{mask_name[:-4]}_{num_h}_{num_w}_{h_crop}px.png'\n",
    "                \n",
    "                test_transformed = test_transform(image=img, mask=mask)\n",
    "                img_cropped = test_transformed['image']\n",
    "                mask_cropped = test_transformed['mask']\n",
    "                \n",
    "                img_cropped = cv2.cvtColor(img_cropped, cv2.COLOR_RGB2BGR)\n",
    "                cv2.imwrite(str(save_img_path), img_cropped)\n",
    "                cv2.imwrite(str(save_mask_path), mask_cropped)\n",
    "\n"
   ]
  }
 ],
 "metadata": {
  "kernelspec": {
   "display_name": "Python 3 (ipykernel)",
   "language": "python",
   "name": "python3"
  },
  "language_info": {
   "codemirror_mode": {
    "name": "ipython",
    "version": 3
   },
   "file_extension": ".py",
   "mimetype": "text/x-python",
   "name": "python",
   "nbconvert_exporter": "python",
   "pygments_lexer": "ipython3",
   "version": "3.10.12"
  }
 },
 "nbformat": 4,
 "nbformat_minor": 4
}
