{
 "cells": [
  {
   "cell_type": "markdown",
   "metadata": {},
   "source": [
    "## Defining initial modules"
   ]
  },
  {
   "cell_type": "code",
   "execution_count": 1,
   "metadata": {
    "execution": {
     "iopub.execute_input": "2023-11-24T23:07:51.379463Z",
     "iopub.status.busy": "2023-11-24T23:07:51.378577Z",
     "iopub.status.idle": "2023-11-24T23:07:51.411014Z",
     "shell.execute_reply": "2023-11-24T23:07:51.410128Z",
     "shell.execute_reply.started": "2023-11-24T23:07:51.379416Z"
    },
    "tags": []
   },
   "outputs": [],
   "source": [
    "import sys\n",
    "sys.path.append(\"../\")\n",
    "sys.path.append(\"./\")"
   ]
  },
  {
   "cell_type": "code",
   "execution_count": 2,
   "metadata": {
    "execution": {
     "iopub.execute_input": "2023-11-24T23:07:51.475267Z",
     "iopub.status.busy": "2023-11-24T23:07:51.474001Z",
     "iopub.status.idle": "2023-11-24T23:07:53.785891Z",
     "shell.execute_reply": "2023-11-24T23:07:53.784906Z",
     "shell.execute_reply.started": "2023-11-24T23:07:51.475217Z"
    },
    "tags": []
   },
   "outputs": [],
   "source": [
    "import os\n",
    "import pandas\n",
    "import albumentations \n",
    "import matplotlib.pyplot as plt \n",
    "from PIL import Image\n",
    "import numpy\n",
    "import typing\n",
    "import warnings\n",
    "import torch \n",
    "from torch import optim\n",
    "\n",
    "from sklearn.model_selection import train_test_split\n",
    "warnings.filterwarnings(\"ignore\", category=DeprecationWarning)"
   ]
  },
  {
   "cell_type": "markdown",
   "metadata": {},
   "source": [
    "## Defining data urls"
   ]
  },
  {
   "cell_type": "code",
   "execution_count": 3,
   "metadata": {
    "execution": {
     "iopub.execute_input": "2023-11-24T23:07:53.788249Z",
     "iopub.status.busy": "2023-11-24T23:07:53.787215Z",
     "iopub.status.idle": "2023-11-24T23:07:53.810921Z",
     "shell.execute_reply": "2023-11-24T23:07:53.809804Z",
     "shell.execute_reply.started": "2023-11-24T23:07:53.788201Z"
    },
    "tags": []
   },
   "outputs": [],
   "source": [
    "# training images and masks\n",
    "\n",
    "train_images_path = \"../data/train/train/images_size_400/\"\n",
    "train_image_masks_path = \"../data/train/train/masks_size_400/\"\n",
    "\n",
    "# train images and masks\n",
    "\n",
    "first_exp_train_urls = [\n",
    "    (\"../data/train/train/images_size_400/\", \"../data/train/train/masks_size_400/\"),\n",
    "    (\"../data/train/train/images_size_500/\", \"../data/train/train/masks_size_500/\"),\n",
    "    (\"../data/train/train/images_size_600/\", \"../data/train/train/masks_size_600/\"),\n",
    "]\n",
    "\n",
    "first_exp_validation_urls = [\n",
    "    (\"../data/train/_extra/images_size_500/\", \"../data/train/_extra/masks_size_500/\"),\n",
    "]\n",
    "\n",
    "\n",
    "second_exp_train_urls = [\n",
    "    (\"../data/train/train/images_size_500/\", \"../data/train/train/masks_size_500/\"),\n",
    "    (\"../data/train/train/images_size_600/\", \"../data/train/train/masks_size_600/\"),\n",
    "    (\"../data/train/train/images_size_700/\", \"../data/train/train/masks_size_700/\"),\n",
    "]\n",
    "\n",
    "second_exp_validation_urls = [\n",
    "    (\"../data/train/train/images_size_600/\", \"../data/train/train/masks_size_600/\"),\n",
    "]"
   ]
  },
  {
   "cell_type": "markdown",
   "metadata": {},
   "source": [
    "## Loading small batch of images and masks for initial analysis"
   ]
  },
  {
   "cell_type": "code",
   "execution_count": 4,
   "metadata": {
    "execution": {
     "iopub.execute_input": "2023-11-24T23:07:53.813443Z",
     "iopub.status.busy": "2023-11-24T23:07:53.812714Z",
     "iopub.status.idle": "2023-11-24T23:07:53.832138Z",
     "shell.execute_reply": "2023-11-24T23:07:53.831114Z",
     "shell.execute_reply.started": "2023-11-24T23:07:53.813408Z"
    },
    "tags": []
   },
   "outputs": [],
   "source": [
    "def load_files(file_path: str):\n",
    "    \"\"\"\n",
    "    Function loads files from given 'file_path' source\n",
    "    Args:\n",
    "        - file_path - path, pointing to the files directory\n",
    "        - number_of_files - respective number of files to load\n",
    "    \"\"\"\n",
    "    batch = []\n",
    "    for path in os.listdir(file_path):\n",
    "        try:\n",
    "            full_url = os.path.join(file_path, path)\n",
    "            ext = path.split(\".\")[-1]\n",
    "            if ext in ('jpeg', 'png', 'jpg'):\n",
    "                batch.append(full_url)\n",
    "                \n",
    "        except(FileNotFoundError):\n",
    "            print('file not found: %s' % full_url)\n",
    "    return batch"
   ]
  },
  {
   "cell_type": "code",
   "execution_count": 5,
   "metadata": {
    "execution": {
     "iopub.execute_input": "2023-11-24T23:07:53.834429Z",
     "iopub.status.busy": "2023-11-24T23:07:53.833618Z",
     "iopub.status.idle": "2023-11-24T23:07:53.847009Z",
     "shell.execute_reply": "2023-11-24T23:07:53.846110Z",
     "shell.execute_reply.started": "2023-11-24T23:07:53.834380Z"
    }
   },
   "outputs": [],
   "source": [
    "def load_experiment_data(urls: typing.Tuple[str]):\n",
    "    \"\"\"\n",
    "    Function loads data for experiment\n",
    "    \n",
    "    urls: (img_url, mask_url) - list of tuples, containing\n",
    "    corresponding images and masks with different resolutions\n",
    "    \"\"\"\n",
    "    imgs, masks = [], []\n",
    "    for img_path, mask_path in urls:\n",
    "    \n",
    "        imgs = load_files(file_path=train_images_path)\n",
    "        masks = load_files(file_path=train_image_masks_path)\n",
    "\n",
    "        imgs.extend(imgs)\n",
    "        masks.extend(masks)\n",
    "    return imgs, masks"
   ]
  },
  {
   "cell_type": "markdown",
   "metadata": {},
   "source": [
    "# Loading training and validation sets for first experiment"
   ]
  },
  {
   "cell_type": "code",
   "execution_count": 6,
   "metadata": {
    "execution": {
     "iopub.execute_input": "2023-11-24T23:07:53.848921Z",
     "iopub.status.busy": "2023-11-24T23:07:53.848221Z",
     "iopub.status.idle": "2023-11-24T23:07:53.928244Z",
     "shell.execute_reply": "2023-11-24T23:07:53.927271Z",
     "shell.execute_reply.started": "2023-11-24T23:07:53.848878Z"
    },
    "tags": []
   },
   "outputs": [
    {
     "name": "stdout",
     "output_type": "stream",
     "text": [
      "CPU times: user 42 ms, sys: 11.4 ms, total: 53.4 ms\n",
      "Wall time: 55.2 ms\n"
     ]
    }
   ],
   "source": [
    "%%time\n",
    "\n",
    "f_train_imgs, f_train_masks = load_experiment_data(first_exp_train_urls)\n",
    "f_validation_imgs, f_validation_masks = load_experiment_data(first_exp_validation_urls)"
   ]
  },
  {
   "cell_type": "code",
   "execution_count": 7,
   "metadata": {
    "execution": {
     "iopub.execute_input": "2023-11-24T23:07:53.930047Z",
     "iopub.status.busy": "2023-11-24T23:07:53.929449Z",
     "iopub.status.idle": "2023-11-24T23:07:53.953061Z",
     "shell.execute_reply": "2023-11-24T23:07:53.952098Z",
     "shell.execute_reply.started": "2023-11-24T23:07:53.930012Z"
    }
   },
   "outputs": [],
   "source": [
    "first_exp_train_info = pandas.DataFrame(\n",
    "    {\n",
    "        'image': f_train_imgs,\n",
    "        'mask': f_train_masks\n",
    "    }\n",
    ")\n",
    "\n",
    "first_exp_validation_info = pandas.DataFrame(\n",
    "    {\n",
    "        'image': f_validation_imgs,\n",
    "        'mask': f_validation_masks\n",
    "    }\n",
    ")"
   ]
  },
  {
   "cell_type": "markdown",
   "metadata": {},
   "source": [
    "# Loading training and validation sets for second experiment"
   ]
  },
  {
   "cell_type": "code",
   "execution_count": 8,
   "metadata": {
    "execution": {
     "iopub.execute_input": "2023-11-24T23:07:53.954986Z",
     "iopub.status.busy": "2023-11-24T23:07:53.954331Z",
     "iopub.status.idle": "2023-11-24T23:07:54.024530Z",
     "shell.execute_reply": "2023-11-24T23:07:54.023640Z",
     "shell.execute_reply.started": "2023-11-24T23:07:53.954944Z"
    }
   },
   "outputs": [],
   "source": [
    "s_train_imgs, s_train_masks = load_experiment_data(first_exp_train_urls)\n",
    "s_validation_imgs, s_validation_masks = load_experiment_data(first_exp_validation_urls)"
   ]
  },
  {
   "cell_type": "code",
   "execution_count": 9,
   "metadata": {
    "execution": {
     "iopub.execute_input": "2023-11-24T23:07:54.027923Z",
     "iopub.status.busy": "2023-11-24T23:07:54.027216Z",
     "iopub.status.idle": "2023-11-24T23:07:54.046299Z",
     "shell.execute_reply": "2023-11-24T23:07:54.045367Z",
     "shell.execute_reply.started": "2023-11-24T23:07:54.027887Z"
    },
    "tags": []
   },
   "outputs": [
    {
     "name": "stdout",
     "output_type": "stream",
     "text": [
      "CPU times: user 3.66 ms, sys: 0 ns, total: 3.66 ms\n",
      "Wall time: 3.09 ms\n"
     ]
    }
   ],
   "source": [
    "%%time\n",
    "\n",
    "second_exp_train_info = pandas.DataFrame(\n",
    "    {\n",
    "        'image': s_train_imgs,\n",
    "        'mask': s_train_masks\n",
    "    }\n",
    ")\n",
    "\n",
    "second_exp_validation_info = pandas.DataFrame(\n",
    "    {\n",
    "        'image': s_validation_imgs,\n",
    "        'mask': s_validation_masks\n",
    "    }\n",
    ")"
   ]
  },
  {
   "cell_type": "markdown",
   "metadata": {},
   "source": [
    "# Visualizing images and masks"
   ]
  },
  {
   "cell_type": "code",
   "execution_count": 10,
   "metadata": {
    "execution": {
     "iopub.execute_input": "2023-11-24T23:07:54.048842Z",
     "iopub.status.busy": "2023-11-24T23:07:54.048174Z",
     "iopub.status.idle": "2023-11-24T23:07:54.069541Z",
     "shell.execute_reply": "2023-11-24T23:07:54.068583Z",
     "shell.execute_reply.started": "2023-11-24T23:07:54.048808Z"
    },
    "tags": []
   },
   "outputs": [],
   "source": [
    "import typing\n",
    "\n",
    "def visualize_set_of_images(imgs: typing.List, masks: typing.List):\n",
    "    \"\"\"\n",
    "    Function visualizes image for a given\n",
    "    set of data\n",
    "    \"\"\"\n",
    "    _, ax = plt.subplots(ncols=2, nrows=5)\n",
    "    plt.figure(figsize=(30, 30))\n",
    "\n",
    "    for idx in range(5):\n",
    "        \n",
    "        img = Image.open(imgs[idx])\n",
    "        mask = Image.open(masks[idx])\n",
    "        \n",
    "        ax[idx,0].imshow(img)\n",
    "        ax[idx,1].imshow(mask, cmap='gray')"
   ]
  },
  {
   "cell_type": "markdown",
   "metadata": {},
   "source": [
    "## Visualizing images and masks for training set (first experiment)"
   ]
  },
  {
   "cell_type": "code",
   "execution_count": 11,
   "metadata": {
    "execution": {
     "iopub.execute_input": "2023-11-24T23:07:54.071207Z",
     "iopub.status.busy": "2023-11-24T23:07:54.070697Z",
     "iopub.status.idle": "2023-11-24T23:07:55.381945Z",
     "shell.execute_reply": "2023-11-24T23:07:55.380988Z",
     "shell.execute_reply.started": "2023-11-24T23:07:54.071170Z"
    },
    "tags": []
   },
   "outputs": [
    {
     "data": {
      "image/png": "[encoded data removed]",
      "text/plain": [
       "<Figure size 432x288 with 10 Axes>"
      ]
     },
     "metadata": {
      "needs_background": "light"
     },
     "output_type": "display_data"
    },
    {
     "data": {
      "text/plain": [
       "<Figure size 2160x2160 with 0 Axes>"
      ]
     },
     "metadata": {},
     "output_type": "display_data"
    }
   ],
   "source": [
    "visualize_set_of_images(f_train_imgs, f_train_masks)"
   ]
  },
  {
   "cell_type": "markdown",
   "metadata": {},
   "source": [
    "## Visualizing images and masks for validation set (first experiment)"
   ]
  },
  {
   "cell_type": "code",
   "execution_count": 12,
   "metadata": {
    "execution": {
     "iopub.execute_input": "2023-11-24T23:07:55.383683Z",
     "iopub.status.busy": "2023-11-24T23:07:55.383064Z",
     "iopub.status.idle": "2023-11-24T23:07:56.710460Z",
     "shell.execute_reply": "2023-11-24T23:07:56.709417Z",
     "shell.execute_reply.started": "2023-11-24T23:07:55.383647Z"
    },
    "tags": []
   },
   "outputs": [
    {
     "data": {
      "image/png": "[encoded data removed]",
      "text/plain": [
       "<Figure size 432x288 with 10 Axes>"
      ]
     },
     "metadata": {
      "needs_background": "light"
     },
     "output_type": "display_data"
    },
    {
     "data": {
      "text/plain": [
       "<Figure size 2160x2160 with 0 Axes>"
      ]
     },
     "metadata": {},
     "output_type": "display_data"
    }
   ],
   "source": [
    "visualize_set_of_images(f_validation_imgs, f_validation_masks)"
   ]
  },
  {
   "cell_type": "markdown",
   "metadata": {},
   "source": [
    "## Defining Augmentation Pipeline"
   ]
  },
  {
   "cell_type": "code",
   "execution_count": 13,
   "metadata": {
    "execution": {
     "iopub.execute_input": "2023-11-24T23:07:56.712548Z",
     "iopub.status.busy": "2023-11-24T23:07:56.711768Z",
     "iopub.status.idle": "2023-11-24T23:07:56.734342Z",
     "shell.execute_reply": "2023-11-24T23:07:56.733389Z",
     "shell.execute_reply.started": "2023-11-24T23:07:56.712513Z"
    },
    "tags": []
   },
   "outputs": [],
   "source": [
    "train_color_transformations = albumentations.Compose(\n",
    "    [\n",
    "        albumentations.OneOf([\n",
    "            albumentations.ColorJitter(\n",
    "                brightness=0.15,\n",
    "                hue=0.15,\n",
    "                saturation=0.15\n",
    "            ),\n",
    "            albumentations.FancyPCA()\n",
    "        ])\n",
    "    ]\n",
    ")"
   ]
  },
  {
   "cell_type": "markdown",
   "metadata": {},
   "source": [
    "## Defining Datasets for first experiment"
   ]
  },
  {
   "cell_type": "code",
   "execution_count": 14,
   "metadata": {
    "execution": {
     "iopub.execute_input": "2023-11-24T23:07:56.736242Z",
     "iopub.status.busy": "2023-11-24T23:07:56.735483Z",
     "iopub.status.idle": "2023-11-24T23:07:56.751006Z",
     "shell.execute_reply": "2023-11-24T23:07:56.750139Z",
     "shell.execute_reply.started": "2023-11-24T23:07:56.736196Z"
    },
    "tags": []
   },
   "outputs": [],
   "source": [
    "from dataset.dataset import SegmentationDataset \n",
    "\n",
    "f_train_dataset = SegmentationDataset(\n",
    "    imgs=first_exp_train_info['image'].tolist(),\n",
    "    masks=first_exp_train_info['mask'].tolist(),\n",
    "    color_transformations=train_color_transformations\n",
    ")\n",
    "\n",
    "f_validation_dataset = SegmentationDataset(\n",
    "    imgs=first_exp_validation_info['image'].tolist(),\n",
    "    masks=first_exp_validation_info['mask'].tolist(),\n",
    ")"
   ]
  },
  {
   "cell_type": "markdown",
   "metadata": {},
   "source": [
    "## Defining datasets for second experiment"
   ]
  },
  {
   "cell_type": "code",
   "execution_count": 15,
   "metadata": {
    "execution": {
     "iopub.execute_input": "2023-11-24T23:07:56.752696Z",
     "iopub.status.busy": "2023-11-24T23:07:56.752131Z",
     "iopub.status.idle": "2023-11-24T23:07:56.770882Z",
     "shell.execute_reply": "2023-11-24T23:07:56.770013Z",
     "shell.execute_reply.started": "2023-11-24T23:07:56.752666Z"
    },
    "tags": []
   },
   "outputs": [],
   "source": [
    "s_train_dataset = SegmentationDataset(\n",
    "    imgs=second_exp_train_info['image'].tolist(),\n",
    "    masks=second_exp_train_info['mask'].tolist(),\n",
    "    color_transformations=train_color_transformations\n",
    ")\n",
    "\n",
    "s_validation_dataset = SegmentationDataset(\n",
    "    imgs=second_exp_validation_info['image'].tolist(),\n",
    "    masks=second_exp_validation_info['mask'].tolist()\n",
    ")"
   ]
  },
  {
   "cell_type": "markdown",
   "metadata": {},
   "source": [
    "# Beginning of experiments."
   ]
  },
  {
   "cell_type": "markdown",
   "metadata": {},
   "source": [
    "### Defining loss functions and evaluation metrics for experiments"
   ]
  },
  {
   "cell_type": "code",
   "execution_count": 16,
   "metadata": {
    "execution": {
     "iopub.execute_input": "2023-11-24T23:07:56.772640Z",
     "iopub.status.busy": "2023-11-24T23:07:56.771983Z",
     "iopub.status.idle": "2023-11-24T23:07:56.790552Z",
     "shell.execute_reply": "2023-11-24T23:07:56.789675Z",
     "shell.execute_reply.started": "2023-11-24T23:07:56.772610Z"
    },
    "tags": []
   },
   "outputs": [],
   "source": [
    "from losses.losses import DiceLoss, FocalLoss, ComboLoss\n",
    "\n",
    "focal_gamma = 2\n",
    "\n",
    "dice_loss = DiceLoss()\n",
    "focal_loss = FocalLoss(gamma=focal_gamma)\n",
    "\n",
    "combo_loss = ComboLoss(\n",
    "    dice_prop=0.4, \n",
    "    focal_prop=0.6, \n",
    "    focal_gamma=focal_gamma\n",
    ")"
   ]
  },
  {
   "cell_type": "markdown",
   "metadata": {
    "execution": {
     "iopub.status.busy": "2023-11-24T14:57:51.102136Z",
     "iopub.status.idle": "2023-11-24T14:57:51.103131Z",
     "shell.execute_reply": "2023-11-24T14:57:51.102890Z"
    }
   },
   "source": [
    "### Defining network for experiment"
   ]
  },
  {
   "cell_type": "code",
   "execution_count": 17,
   "metadata": {
    "execution": {
     "iopub.execute_input": "2023-11-24T23:07:56.792355Z",
     "iopub.status.busy": "2023-11-24T23:07:56.791679Z",
     "iopub.status.idle": "2023-11-24T23:07:56.881397Z",
     "shell.execute_reply": "2023-11-24T23:07:56.880426Z",
     "shell.execute_reply.started": "2023-11-24T23:07:56.792320Z"
    },
    "tags": []
   },
   "outputs": [],
   "source": [
    "from networks import unet\n",
    "network = unet.UNet()"
   ]
  },
  {
   "cell_type": "markdown",
   "metadata": {
    "execution": {
     "iopub.status.busy": "2023-11-24T14:57:51.106199Z",
     "iopub.status.idle": "2023-11-24T14:57:51.107129Z",
     "shell.execute_reply": "2023-11-24T14:57:51.106924Z"
    }
   },
   "source": [
    "### Defining optimizers and learning rate "
   ]
  },
  {
   "cell_type": "code",
   "execution_count": 18,
   "metadata": {
    "execution": {
     "iopub.execute_input": "2023-11-24T23:07:56.883482Z",
     "iopub.status.busy": "2023-11-24T23:07:56.882623Z",
     "iopub.status.idle": "2023-11-24T23:07:56.902861Z",
     "shell.execute_reply": "2023-11-24T23:07:56.901930Z",
     "shell.execute_reply.started": "2023-11-24T23:07:56.883445Z"
    },
    "tags": []
   },
   "outputs": [],
   "source": [
    "learning_rate = 3e-6\n",
    "adam_opt = optim.Adam(params=network.parameters(), lr=learning_rate, weight_decay=1e-5)\n",
    "sgd_opt = optim.SGD(params=network.parameters(), lr=learning_rate)"
   ]
  },
  {
   "cell_type": "markdown",
   "metadata": {},
   "source": [
    "### Defining lr scheduling techniques"
   ]
  },
  {
   "cell_type": "code",
   "execution_count": 19,
   "metadata": {
    "execution": {
     "iopub.execute_input": "2023-11-24T23:07:56.904814Z",
     "iopub.status.busy": "2023-11-24T23:07:56.904045Z",
     "iopub.status.idle": "2023-11-24T23:07:56.931435Z",
     "shell.execute_reply": "2023-11-24T23:07:56.930432Z",
     "shell.execute_reply.started": "2023-11-24T23:07:56.904777Z"
    },
    "tags": []
   },
   "outputs": [],
   "source": [
    "from torch.optim import lr_scheduler\n",
    "\n",
    "reduction_gamma = 0.0001\n",
    "step_size = 5\n",
    "patience_epochs = 5\n",
    "\n",
    "adam_step_scheduler = lr_scheduler.StepLR(\n",
    "    optimizer=adam_opt,\n",
    "    step_size=step_size, \n",
    "    gamma=reduction_gamma\n",
    ")\n",
    "\n",
    "sgd_step_scheduler = lr_scheduler.StepLR(\n",
    "    optimizer=sgd_opt,\n",
    "    step_size=step_size, \n",
    "    gamma=reduction_gamma\n",
    ")\n",
    "\n",
    "adam_plateau_scheduler = lr_scheduler.ReduceLROnPlateau(\n",
    "    adam_opt, mode='min', \n",
    "    factor=0.1,\n",
    "    patience=patience_epochs, \n",
    "    min_lr=learning_rate\n",
    ")\n",
    "\n",
    "sgd_plateau_scheduler = lr_scheduler.ReduceLROnPlateau(\n",
    "    sgd_opt, mode='min', \n",
    "    factor=0.1,\n",
    "    patience=patience_epochs, \n",
    "    min_lr=learning_rate\n",
    ")"
   ]
  },
  {
   "cell_type": "markdown",
   "metadata": {},
   "source": [
    "### Early Stopping Regularization"
   ]
  },
  {
   "cell_type": "code",
   "execution_count": 20,
   "metadata": {
    "execution": {
     "iopub.execute_input": "2023-11-24T23:07:56.933452Z",
     "iopub.status.busy": "2023-11-24T23:07:56.932667Z",
     "iopub.status.idle": "2023-11-24T23:07:56.945008Z",
     "shell.execute_reply": "2023-11-24T23:07:56.944124Z",
     "shell.execute_reply.started": "2023-11-24T23:07:56.933407Z"
    },
    "tags": []
   },
   "outputs": [],
   "source": [
    "class EarlyStopping(object):\n",
    "    \"\"\"\n",
    "    Implementation of the early stopping class\n",
    "    for network regularization\n",
    "    \"\"\"\n",
    "    def __init__(self, patience: int):\n",
    "        self.default_patience = patience\n",
    "        self.current_patience = patience\n",
    "        self.best_metric = None\n",
    "        \n",
    "    def compare(self, current_metric: float):\n",
    "        \"\"\"\n",
    "        Function compares current metric to\n",
    "        previous one and updates the patience\n",
    "        \n",
    "        Returns:\n",
    "            - bool status\n",
    "            (True) - stop training \n",
    "            (False) - continue\n",
    "        \"\"\"\n",
    "        if not self.best_metric:\n",
    "            self.best_metric = current_metric\n",
    "            \n",
    "        elif current_metric > self.prev_metric:\n",
    "            self.current_patience = self.default_patience\n",
    "            self.best_metric = current_metric\n",
    "        else:\n",
    "            self.current_patience -= 1\n",
    "        return self.current_patience == 0"
   ]
  },
  {
   "cell_type": "code",
   "execution_count": 51,
   "metadata": {
    "execution": {
     "iopub.execute_input": "2023-11-24T23:46:44.530365Z",
     "iopub.status.busy": "2023-11-24T23:46:44.529344Z",
     "iopub.status.idle": "2023-11-24T23:46:44.542120Z",
     "shell.execute_reply": "2023-11-24T23:46:44.541304Z",
     "shell.execute_reply.started": "2023-11-24T23:46:44.530307Z"
    },
    "tags": []
   },
   "outputs": [],
   "source": [
    "import math\n",
    "\n",
    "def pick_best_batch_size(model_size: float, forward_backward_size: float):\n",
    "    \"\"\"\n",
    "    Function returns maximum batch size,\n",
    "    that can be formed based on existing\n",
    "    network and computational capabilities\n",
    "    \n",
    "    Following formula is applied: \n",
    "    max_batch_size = (total_gpu_bytes - model_size) / (forward_backward_size)\n",
    "    \n",
    "    Parameters:\n",
    "    -----------\n",
    "    \n",
    "    model_size - (mb) - size of the model in bytes\n",
    "    forward_backward_size - (mb) - size of the forward and backward passes in bytes\n",
    "    \"\"\"\n",
    "    total_gpu = torch.cuda.get_device_properties(0).total_memory - torch.cuda.memory_allocated(0)\n",
    "    max_batch = (total_gpu - model_size) / (forward_backward_size)\n",
    "    return 2 ** math.floor(numpy.log2(max_batch))"
   ]
  },
  {
   "cell_type": "code",
   "execution_count": 37,
   "metadata": {
    "execution": {
     "iopub.execute_input": "2023-11-24T23:38:10.399286Z",
     "iopub.status.busy": "2023-11-24T23:38:10.398241Z",
     "iopub.status.idle": "2023-11-24T23:38:10.424355Z",
     "shell.execute_reply": "2023-11-24T23:38:10.423093Z",
     "shell.execute_reply.started": "2023-11-24T23:38:10.399242Z"
    },
    "tags": []
   },
   "outputs": [
    {
     "ename": "TypeError",
     "evalue": "summary() missing 1 required positional argument: 'input_size'",
     "output_type": "error",
     "traceback": [
      "\u001b[0;31m---------------------------------------------------------------------------\u001b[0m",
      "\u001b[0;31mTypeError\u001b[0m                                 Traceback (most recent call last)",
      "\u001b[0;32m<ipython-input-37-c8cfd8af13cd>\u001b[0m in \u001b[0;36m<module>\u001b[0;34m\u001b[0m\n\u001b[1;32m      1\u001b[0m \u001b[0;32mimport\u001b[0m \u001b[0mtorchsummary\u001b[0m\u001b[0;34m\u001b[0m\u001b[0;34m\u001b[0m\u001b[0m\n\u001b[1;32m      2\u001b[0m \u001b[0;34m\u001b[0m\u001b[0m\n\u001b[0;32m----> 3\u001b[0;31m \u001b[0mmodel_summary\u001b[0m \u001b[0;34m=\u001b[0m \u001b[0mtorchsummary\u001b[0m\u001b[0;34m.\u001b[0m\u001b[0msummary\u001b[0m\u001b[0;34m(\u001b[0m\u001b[0mnetwork\u001b[0m\u001b[0;34m)\u001b[0m\u001b[0;34m\u001b[0m\u001b[0;34m\u001b[0m\u001b[0m\n\u001b[0m\u001b[1;32m      4\u001b[0m \u001b[0;31m#\u001b[0m\u001b[0;34m\u001b[0m\u001b[0;34m\u001b[0m\u001b[0m\n",
      "\u001b[0;31mTypeError\u001b[0m: summary() missing 1 required positional argument: 'input_size'"
     ]
    }
   ],
   "source": [
    "import torchsummary"
   ]
  },
  {
   "cell_type": "code",
   "execution_count": 42,
   "metadata": {
    "execution": {
     "iopub.execute_input": "2023-11-24T23:42:05.421355Z",
     "iopub.status.busy": "2023-11-24T23:42:05.420403Z",
     "iopub.status.idle": "2023-11-24T23:42:05.510821Z",
     "shell.execute_reply": "2023-11-24T23:42:05.509899Z",
     "shell.execute_reply.started": "2023-11-24T23:42:05.421300Z"
    },
    "tags": []
   },
   "outputs": [
    {
     "name": "stdout",
     "output_type": "stream",
     "text": [
      "----------------------------------------------------------------\n",
      "        Layer (type)               Output Shape         Param #\n",
      "================================================================\n",
      "            Conv2d-1         [-1, 32, 400, 400]             896\n",
      "       BatchNorm2d-2         [-1, 32, 400, 400]              64\n",
      "              ReLU-3         [-1, 32, 400, 400]               0\n",
      "            Conv2d-4         [-1, 32, 400, 400]           9,248\n",
      "       BatchNorm2d-5         [-1, 32, 400, 400]              64\n",
      "              ReLU-6         [-1, 32, 400, 400]               0\n",
      "         MaxPool2d-7         [-1, 32, 200, 200]               0\n",
      "            Conv2d-8         [-1, 64, 200, 200]          18,496\n",
      "       BatchNorm2d-9         [-1, 64, 200, 200]             128\n",
      "             ReLU-10         [-1, 64, 200, 200]               0\n",
      "           Conv2d-11         [-1, 64, 200, 200]          36,928\n",
      "      BatchNorm2d-12         [-1, 64, 200, 200]             128\n",
      "             ReLU-13         [-1, 64, 200, 200]               0\n",
      "        MaxPool2d-14         [-1, 64, 100, 100]               0\n",
      "           Conv2d-15        [-1, 128, 100, 100]          73,856\n",
      "      BatchNorm2d-16        [-1, 128, 100, 100]             256\n",
      "             ReLU-17        [-1, 128, 100, 100]               0\n",
      "           Conv2d-18        [-1, 128, 100, 100]         147,584\n",
      "      BatchNorm2d-19        [-1, 128, 100, 100]             256\n",
      "             ReLU-20        [-1, 128, 100, 100]               0\n",
      "        MaxPool2d-21          [-1, 128, 50, 50]               0\n",
      "           Conv2d-22          [-1, 256, 50, 50]         295,168\n",
      "      BatchNorm2d-23          [-1, 256, 50, 50]             512\n",
      "             ReLU-24          [-1, 256, 50, 50]               0\n",
      "           Conv2d-25          [-1, 256, 50, 50]         590,080\n",
      "      BatchNorm2d-26          [-1, 256, 50, 50]             512\n",
      "             ReLU-27          [-1, 256, 50, 50]               0\n",
      "        MaxPool2d-28          [-1, 256, 25, 25]               0\n",
      "           Conv2d-29          [-1, 512, 25, 25]       1,180,160\n",
      "      BatchNorm2d-30          [-1, 512, 25, 25]           1,024\n",
      "             ReLU-31          [-1, 512, 25, 25]               0\n",
      "           Conv2d-32          [-1, 512, 25, 25]       2,359,808\n",
      "      BatchNorm2d-33          [-1, 512, 25, 25]           1,024\n",
      "             ReLU-34          [-1, 512, 25, 25]               0\n",
      "  ConvTranspose2d-35          [-1, 256, 50, 50]         524,544\n",
      "           Conv2d-36          [-1, 256, 50, 50]       1,179,904\n",
      "      BatchNorm2d-37          [-1, 256, 50, 50]             512\n",
      "             ReLU-38          [-1, 256, 50, 50]               0\n",
      "           Conv2d-39          [-1, 256, 50, 50]         590,080\n",
      "      BatchNorm2d-40          [-1, 256, 50, 50]             512\n",
      "             ReLU-41          [-1, 256, 50, 50]               0\n",
      "  ConvTranspose2d-42        [-1, 128, 100, 100]         131,200\n",
      "           Conv2d-43        [-1, 128, 100, 100]         295,040\n",
      "      BatchNorm2d-44        [-1, 128, 100, 100]             256\n",
      "             ReLU-45        [-1, 128, 100, 100]               0\n",
      "           Conv2d-46        [-1, 128, 100, 100]         147,584\n",
      "      BatchNorm2d-47        [-1, 128, 100, 100]             256\n",
      "             ReLU-48        [-1, 128, 100, 100]               0\n",
      "  ConvTranspose2d-49         [-1, 64, 200, 200]          32,832\n",
      "           Conv2d-50         [-1, 64, 200, 200]          73,792\n",
      "      BatchNorm2d-51         [-1, 64, 200, 200]             128\n",
      "             ReLU-52         [-1, 64, 200, 200]               0\n",
      "           Conv2d-53         [-1, 64, 200, 200]          36,928\n",
      "      BatchNorm2d-54         [-1, 64, 200, 200]             128\n",
      "             ReLU-55         [-1, 64, 200, 200]               0\n",
      "  ConvTranspose2d-56         [-1, 32, 400, 400]           8,224\n",
      "           Conv2d-57         [-1, 32, 400, 400]          18,464\n",
      "      BatchNorm2d-58         [-1, 32, 400, 400]              64\n",
      "             ReLU-59         [-1, 32, 400, 400]               0\n",
      "           Conv2d-60         [-1, 32, 400, 400]           9,248\n",
      "      BatchNorm2d-61         [-1, 32, 400, 400]              64\n",
      "             ReLU-62         [-1, 32, 400, 400]               0\n",
      "           Conv2d-63          [-1, 1, 400, 400]              33\n",
      "================================================================\n",
      "Total params: 7,765,985\n",
      "Trainable params: 7,765,985\n",
      "Non-trainable params: 0\n",
      "----------------------------------------------------------------\n",
      "Input size (MB): 1.83\n",
      "Forward/backward pass size (MB): 986.33\n",
      "Params size (MB): 29.62\n",
      "Estimated Total Size (MB): 1017.78\n",
      "----------------------------------------------------------------\n"
     ]
    }
   ],
   "source": [
    "f_model_summary = torchsummary.summary(network, input_size=(3, 400, 400))"
   ]
  },
  {
   "cell_type": "code",
   "execution_count": 46,
   "metadata": {
    "execution": {
     "iopub.execute_input": "2023-11-24T23:45:11.037452Z",
     "iopub.status.busy": "2023-11-24T23:45:11.036627Z",
     "iopub.status.idle": "2023-11-24T23:45:11.114420Z",
     "shell.execute_reply": "2023-11-24T23:45:11.112768Z",
     "shell.execute_reply.started": "2023-11-24T23:45:11.037410Z"
    },
    "tags": []
   },
   "outputs": [
    {
     "ename": "RuntimeError",
     "evalue": "Sizes of tensors must match except in dimension 1. Expected size 81 but got size 80 for tensor number 1 in the list.",
     "output_type": "error",
     "traceback": [
      "\u001b[0;31m---------------------------------------------------------------------------\u001b[0m",
      "\u001b[0;31mRuntimeError\u001b[0m                              Traceback (most recent call last)",
      "\u001b[0;32m<ipython-input-46-a20e0f76296f>\u001b[0m in \u001b[0;36m<module>\u001b[0;34m\u001b[0m\n\u001b[0;32m----> 1\u001b[0;31m \u001b[0ms_model_summary\u001b[0m \u001b[0;34m=\u001b[0m \u001b[0mtorchsummary\u001b[0m\u001b[0;34m.\u001b[0m\u001b[0msummary\u001b[0m\u001b[0;34m(\u001b[0m\u001b[0mnetwork\u001b[0m\u001b[0;34m,\u001b[0m \u001b[0minput_size\u001b[0m\u001b[0;34m=\u001b[0m\u001b[0;34m(\u001b[0m\u001b[0;36m3\u001b[0m\u001b[0;34m,\u001b[0m \u001b[0;36m650\u001b[0m\u001b[0;34m,\u001b[0m \u001b[0;36m650\u001b[0m\u001b[0;34m)\u001b[0m\u001b[0;34m)\u001b[0m\u001b[0;34m\u001b[0m\u001b[0;34m\u001b[0m\u001b[0m\n\u001b[0m\u001b[1;32m      2\u001b[0m \u001b[0;31m#\u001b[0m\u001b[0;34m\u001b[0m\u001b[0;34m\u001b[0m\u001b[0m\n",
      "\u001b[0;32m/usr/local/lib/python3.10/dist-packages/torchsummary/torchsummary.py\u001b[0m in \u001b[0;36msummary\u001b[0;34m(model, input_size, batch_size, device)\u001b[0m\n\u001b[1;32m     70\u001b[0m     \u001b[0;31m# make a forward pass\u001b[0m\u001b[0;34m\u001b[0m\u001b[0;34m\u001b[0m\u001b[0m\n\u001b[1;32m     71\u001b[0m     \u001b[0;31m# print(x.shape)\u001b[0m\u001b[0;34m\u001b[0m\u001b[0;34m\u001b[0m\u001b[0m\n\u001b[0;32m---> 72\u001b[0;31m     \u001b[0mmodel\u001b[0m\u001b[0;34m(\u001b[0m\u001b[0;34m*\u001b[0m\u001b[0mx\u001b[0m\u001b[0;34m)\u001b[0m\u001b[0;34m\u001b[0m\u001b[0;34m\u001b[0m\u001b[0m\n\u001b[0m\u001b[1;32m     73\u001b[0m \u001b[0;34m\u001b[0m\u001b[0m\n\u001b[1;32m     74\u001b[0m     \u001b[0;31m# remove these hooks\u001b[0m\u001b[0;34m\u001b[0m\u001b[0;34m\u001b[0m\u001b[0m\n",
      "\u001b[0;32m/usr/local/lib/python3.10/dist-packages/torch/nn/modules/module.py\u001b[0m in \u001b[0;36m_call_impl\u001b[0;34m(self, *args, **kwargs)\u001b[0m\n\u001b[1;32m   1499\u001b[0m                 \u001b[0;32mor\u001b[0m \u001b[0m_global_backward_pre_hooks\u001b[0m \u001b[0;32mor\u001b[0m \u001b[0m_global_backward_hooks\u001b[0m\u001b[0;34m\u001b[0m\u001b[0;34m\u001b[0m\u001b[0m\n\u001b[1;32m   1500\u001b[0m                 or _global_forward_hooks or _global_forward_pre_hooks):\n\u001b[0;32m-> 1501\u001b[0;31m             \u001b[0;32mreturn\u001b[0m \u001b[0mforward_call\u001b[0m\u001b[0;34m(\u001b[0m\u001b[0;34m*\u001b[0m\u001b[0margs\u001b[0m\u001b[0;34m,\u001b[0m \u001b[0;34m**\u001b[0m\u001b[0mkwargs\u001b[0m\u001b[0;34m)\u001b[0m\u001b[0;34m\u001b[0m\u001b[0;34m\u001b[0m\u001b[0m\n\u001b[0m\u001b[1;32m   1502\u001b[0m         \u001b[0;31m# Do not call functions when jit is used\u001b[0m\u001b[0;34m\u001b[0m\u001b[0;34m\u001b[0m\u001b[0m\n\u001b[1;32m   1503\u001b[0m         \u001b[0mfull_backward_hooks\u001b[0m\u001b[0;34m,\u001b[0m \u001b[0mnon_full_backward_hooks\u001b[0m \u001b[0;34m=\u001b[0m \u001b[0;34m[\u001b[0m\u001b[0;34m]\u001b[0m\u001b[0;34m,\u001b[0m \u001b[0;34m[\u001b[0m\u001b[0;34m]\u001b[0m\u001b[0;34m\u001b[0m\u001b[0;34m\u001b[0m\u001b[0m\n",
      "\u001b[0;32m~/work/resources/Satellite-Segmentation/notebooks/../networks/unet.py\u001b[0m in \u001b[0;36mforward\u001b[0;34m(self, x)\u001b[0m\n\u001b[1;32m    116\u001b[0m         \u001b[0;31m# decoder\u001b[0m\u001b[0;34m\u001b[0m\u001b[0;34m\u001b[0m\u001b[0m\n\u001b[1;32m    117\u001b[0m         \u001b[0mx\u001b[0m \u001b[0;34m=\u001b[0m \u001b[0mself\u001b[0m\u001b[0;34m.\u001b[0m\u001b[0mupsample3\u001b[0m\u001b[0;34m(\u001b[0m\u001b[0mx\u001b[0m\u001b[0;34m)\u001b[0m\u001b[0;34m\u001b[0m\u001b[0;34m\u001b[0m\u001b[0m\n\u001b[0;32m--> 118\u001b[0;31m         \u001b[0mx\u001b[0m \u001b[0;34m=\u001b[0m \u001b[0mtorch\u001b[0m\u001b[0;34m.\u001b[0m\u001b[0mcat\u001b[0m\u001b[0;34m(\u001b[0m\u001b[0;34m[\u001b[0m\u001b[0me_3\u001b[0m\u001b[0;34m,\u001b[0m \u001b[0mx\u001b[0m\u001b[0;34m]\u001b[0m\u001b[0;34m,\u001b[0m \u001b[0maxis\u001b[0m\u001b[0;34m=\u001b[0m\u001b[0;36m1\u001b[0m\u001b[0;34m)\u001b[0m\u001b[0;34m\u001b[0m\u001b[0;34m\u001b[0m\u001b[0m\n\u001b[0m\u001b[1;32m    119\u001b[0m         \u001b[0mx\u001b[0m \u001b[0;34m=\u001b[0m \u001b[0mself\u001b[0m\u001b[0;34m.\u001b[0m\u001b[0mdec_conv3\u001b[0m\u001b[0;34m(\u001b[0m\u001b[0mx\u001b[0m\u001b[0;34m)\u001b[0m\u001b[0;34m\u001b[0m\u001b[0;34m\u001b[0m\u001b[0m\n\u001b[1;32m    120\u001b[0m \u001b[0;34m\u001b[0m\u001b[0m\n",
      "\u001b[0;31mRuntimeError\u001b[0m: Sizes of tensors must match except in dimension 1. Expected size 81 but got size 80 for tensor number 1 in the list."
     ]
    }
   ],
   "source": [
    "s_model_summary = torchsummary.summary(network, input_size=(3, 650, 650))"
   ]
  },
  {
   "cell_type": "code",
   "execution_count": 52,
   "metadata": {
    "execution": {
     "iopub.execute_input": "2023-11-24T23:46:51.670216Z",
     "iopub.status.busy": "2023-11-24T23:46:51.669377Z",
     "iopub.status.idle": "2023-11-24T23:46:51.682167Z",
     "shell.execute_reply": "2023-11-24T23:46:51.681419Z",
     "shell.execute_reply.started": "2023-11-24T23:46:51.670159Z"
    },
    "tags": []
   },
   "outputs": [],
   "source": [
    "first_batch_size = pick_best_batch_size(\n",
    "    model_size=29.62, \n",
    "    forward_backward_size=986.33\n",
    ")"
   ]
  },
  {
   "cell_type": "code",
   "execution_count": 53,
   "metadata": {
    "execution": {
     "iopub.execute_input": "2023-11-24T23:46:53.210432Z",
     "iopub.status.busy": "2023-11-24T23:46:53.209563Z",
     "iopub.status.idle": "2023-11-24T23:46:53.223262Z",
     "shell.execute_reply": "2023-11-24T23:46:53.222462Z",
     "shell.execute_reply.started": "2023-11-24T23:46:53.210378Z"
    },
    "tags": []
   },
   "outputs": [
    {
     "data": {
      "text/plain": [
       "16777216"
      ]
     },
     "execution_count": 53,
     "metadata": {},
     "output_type": "execute_result"
    }
   ],
   "source": [
    "first_batch_size"
   ]
  },
  {
   "cell_type": "code",
   "execution_count": null,
   "metadata": {},
   "outputs": [],
   "source": [
    "second_batch_size = pick_best_batch_size(\n",
    "    model_size=29.62, \n",
    "    forward_backward_size=986.33\n",
    ")"
   ]
  },
  {
   "cell_type": "code",
   "execution_count": null,
   "metadata": {},
   "outputs": [],
   "source": [
    "second_batch_size = "
   ]
  },
  {
   "cell_type": "markdown",
   "metadata": {},
   "source": [
    "### Importing network trainer"
   ]
  },
  {
   "cell_type": "code",
   "execution_count": 21,
   "metadata": {
    "execution": {
     "iopub.execute_input": "2023-11-24T23:07:56.946672Z",
     "iopub.status.busy": "2023-11-24T23:07:56.946255Z",
     "iopub.status.idle": "2023-11-24T23:07:56.966564Z",
     "shell.execute_reply": "2023-11-24T23:07:56.965593Z",
     "shell.execute_reply.started": "2023-11-24T23:07:56.946643Z"
    },
    "tags": []
   },
   "outputs": [],
   "source": [
    "from network_trainer.network_trainer import NetworkTrainer"
   ]
  },
  {
   "cell_type": "code",
   "execution_count": 54,
   "metadata": {
    "execution": {
     "iopub.execute_input": "2023-11-24T23:57:38.486821Z",
     "iopub.status.busy": "2023-11-24T23:57:38.485838Z",
     "iopub.status.idle": "2023-11-24T23:57:38.500694Z",
     "shell.execute_reply": "2023-11-24T23:57:38.499908Z",
     "shell.execute_reply.started": "2023-11-24T23:57:38.486767Z"
    },
    "tags": []
   },
   "outputs": [],
   "source": [
    "first_trainer = NetworkTrainer(\n",
    "    network=network,\n",
    "    optimizer=adam_opt,\n",
    "    lr_scheduler=adam_step_scheduler,\n",
    "    loss_function=focal_loss,\n",
    "    train_device='cuda',\n",
    "    max_epochs=5,\n",
    "    batch_size=32\n",
    ")"
   ]
  },
  {
   "cell_type": "code",
   "execution_count": null,
   "metadata": {
    "execution": {
     "iopub.execute_input": "2023-11-24T23:57:40.129507Z",
     "iopub.status.busy": "2023-11-24T23:57:40.128656Z"
    },
    "tags": []
   },
   "outputs": [
    {
     "name": "stderr",
     "output_type": "stream",
     "text": [
      "100%|██████████| 278/278 [03:14<00:00,  1.43it/s]\n"
     ]
    },
    {
     "name": "stdout",
     "output_type": "stream",
     "text": [
      "0 epochs passed\n"
     ]
    },
    {
     "name": "stderr",
     "output_type": "stream",
     "text": [
      "100%|██████████| 278/278 [03:12<00:00,  1.44it/s]\n"
     ]
    },
    {
     "name": "stdout",
     "output_type": "stream",
     "text": [
      "1 epochs passed\n"
     ]
    },
    {
     "name": "stderr",
     "output_type": "stream",
     "text": [
      " 44%|████▍     | 123/278 [01:24<01:55,  1.34it/s]"
     ]
    }
   ],
   "source": [
    "%%time\n",
    "f_train_loss, f_train_history = first_trainer.train(f_train_dataset)"
   ]
  },
  {
   "cell_type": "code",
   "execution_count": 35,
   "metadata": {
    "execution": {
     "iopub.execute_input": "2023-11-24T23:37:02.638534Z",
     "iopub.status.busy": "2023-11-24T23:37:02.637483Z",
     "iopub.status.idle": "2023-11-24T23:37:02.884482Z",
     "shell.execute_reply": "2023-11-24T23:37:02.883647Z",
     "shell.execute_reply.started": "2023-11-24T23:37:02.638489Z"
    },
    "tags": []
   },
   "outputs": [
    {
     "data": {
      "text/plain": [
       "Text(0.5, 1.0, 'Training loss for the first experiment')"
      ]
     },
     "execution_count": 35,
     "metadata": {},
     "output_type": "execute_result"
    },
    {
     "data": {
      "image/png": "[encoded data removed]",
      "text/plain": [
       "<Figure size 720x720 with 1 Axes>"
      ]
     },
     "metadata": {
      "needs_background": "light"
     },
     "output_type": "display_data"
    }
   ],
   "source": [
    "plt.figure(figsize=(10, 10))\n",
    "plt.plot(numpy.arange(len((f_train_history))), f_train_history)\n",
    "plt.title(\"Training loss for the first experiment\")"
   ]
  },
  {
   "cell_type": "code",
   "execution_count": null,
   "metadata": {},
   "outputs": [],
   "source": [
    "actual_mask = f_validation_dataset.masks[0]\n",
    "predicted_mask = first_trainer.network.forward"
   ]
  },
  {
   "cell_type": "code",
   "execution_count": 24,
   "metadata": {
    "execution": {
     "iopub.execute_input": "2023-11-24T23:09:26.870205Z",
     "iopub.status.busy": "2023-11-24T23:09:26.869534Z",
     "iopub.status.idle": "2023-11-24T23:09:27.345944Z",
     "shell.execute_reply": "2023-11-24T23:09:27.344928Z",
     "shell.execute_reply.started": "2023-11-24T23:09:26.870159Z"
    },
    "tags": []
   },
   "outputs": [
    {
     "ename": "RuntimeError",
     "evalue": "Failed to predict mask, check logs for more info",
     "output_type": "error",
     "traceback": [
      "\u001b[0;31m---------------------------------------------------------------------------\u001b[0m",
      "\u001b[0;31mTypeError\u001b[0m                                 Traceback (most recent call last)",
      "\u001b[0;32m~/work/resources/Satellite-Segmentation/notebooks/../network_trainer/network_trainer.py\u001b[0m in \u001b[0;36mevaluate\u001b[0;34m(self, validation_dataset)\u001b[0m\n\u001b[1;32m    152\u001b[0m                     ).cpu().to(torch.uint8)\n\u001b[0;32m--> 153\u001b[0;31m                     eval_metric = self.eval_metric(\n\u001b[0m\u001b[1;32m    154\u001b[0m                         \u001b[0mpredicted_masks\u001b[0m\u001b[0;34m,\u001b[0m\u001b[0;34m\u001b[0m\u001b[0;34m\u001b[0m\u001b[0m\n",
      "\u001b[0;32m/usr/local/lib/python3.10/dist-packages/torch/nn/modules/module.py\u001b[0m in \u001b[0;36m_call_impl\u001b[0;34m(self, *args, **kwargs)\u001b[0m\n\u001b[1;32m   1500\u001b[0m                 or _global_forward_hooks or _global_forward_pre_hooks):\n\u001b[0;32m-> 1501\u001b[0;31m             \u001b[0;32mreturn\u001b[0m \u001b[0mforward_call\u001b[0m\u001b[0;34m(\u001b[0m\u001b[0;34m*\u001b[0m\u001b[0margs\u001b[0m\u001b[0;34m,\u001b[0m \u001b[0;34m**\u001b[0m\u001b[0mkwargs\u001b[0m\u001b[0;34m)\u001b[0m\u001b[0;34m\u001b[0m\u001b[0;34m\u001b[0m\u001b[0m\n\u001b[0m\u001b[1;32m   1502\u001b[0m         \u001b[0;31m# Do not call functions when jit is used\u001b[0m\u001b[0;34m\u001b[0m\u001b[0;34m\u001b[0m\u001b[0m\n",
      "\u001b[0;32m~/work/resources/Satellite-Segmentation/notebooks/../losses/eval_metrics.py\u001b[0m in \u001b[0;36mforward\u001b[0;34m(y_pred, y_true, threshold)\u001b[0m\n\u001b[1;32m     30\u001b[0m \u001b[0;34m\u001b[0m\u001b[0m\n\u001b[0;32m---> 31\u001b[0;31m         \u001b[0my_pred_bin\u001b[0m \u001b[0;34m=\u001b[0m \u001b[0;34m(\u001b[0m\u001b[0my_pred\u001b[0m \u001b[0;34m>\u001b[0m \u001b[0mthreshold\u001b[0m\u001b[0;34m)\u001b[0m\u001b[0;34m.\u001b[0m\u001b[0mfloat\u001b[0m\u001b[0;34m(\u001b[0m\u001b[0;34m)\u001b[0m\u001b[0;34m\u001b[0m\u001b[0;34m\u001b[0m\u001b[0m\n\u001b[0m\u001b[1;32m     32\u001b[0m         \u001b[0my_true_bin\u001b[0m \u001b[0;34m=\u001b[0m \u001b[0my_true\u001b[0m\u001b[0;34m.\u001b[0m\u001b[0mfloat\u001b[0m\u001b[0;34m(\u001b[0m\u001b[0;34m)\u001b[0m\u001b[0;34m\u001b[0m\u001b[0;34m\u001b[0m\u001b[0m\n",
      "\u001b[0;31mTypeError\u001b[0m: '>' not supported between instances of 'F1Score' and 'Tensor'",
      "\nDuring handling of the above exception, another exception occurred:\n",
      "\u001b[0;31mRuntimeError\u001b[0m                              Traceback (most recent call last)",
      "\u001b[0;32m<timed exec>\u001b[0m in \u001b[0;36m<module>\u001b[0;34m\u001b[0m\n",
      "\u001b[0;32m~/work/resources/Satellite-Segmentation/notebooks/../network_trainer/network_trainer.py\u001b[0m in \u001b[0;36mevaluate\u001b[0;34m(self, validation_dataset)\u001b[0m\n\u001b[1;32m    159\u001b[0m                 \u001b[0;32mexcept\u001b[0m \u001b[0mException\u001b[0m \u001b[0;32mas\u001b[0m \u001b[0merr\u001b[0m\u001b[0;34m:\u001b[0m\u001b[0;34m\u001b[0m\u001b[0;34m\u001b[0m\u001b[0m\n\u001b[1;32m    160\u001b[0m                     \u001b[0mlogger\u001b[0m\u001b[0;34m.\u001b[0m\u001b[0mdebug\u001b[0m\u001b[0;34m(\u001b[0m\u001b[0merr\u001b[0m\u001b[0;34m)\u001b[0m\u001b[0;34m\u001b[0m\u001b[0;34m\u001b[0m\u001b[0m\n\u001b[0;32m--> 161\u001b[0;31m                     raise RuntimeError(\n\u001b[0m\u001b[1;32m    162\u001b[0m                     \"Failed to predict mask, check logs for more info\")\n\u001b[1;32m    163\u001b[0m         \u001b[0;32mreturn\u001b[0m \u001b[0mnumpy\u001b[0m\u001b[0;34m.\u001b[0m\u001b[0mmean\u001b[0m\u001b[0;34m(\u001b[0m\u001b[0mtotal_val_metric\u001b[0m\u001b[0;34m)\u001b[0m\u001b[0;34m\u001b[0m\u001b[0;34m\u001b[0m\u001b[0m\n",
      "\u001b[0;31mRuntimeError\u001b[0m: Failed to predict mask, check logs for more info"
     ]
    }
   ],
   "source": [
    "%%time\n",
    "f_eval_metric = first_trainer.evaluate(f_validation_dataset)"
   ]
  },
  {
   "cell_type": "code",
   "execution_count": 25,
   "metadata": {
    "execution": {
     "iopub.execute_input": "2023-11-24T23:09:27.348182Z",
     "iopub.status.busy": "2023-11-24T23:09:27.347429Z",
     "iopub.status.idle": "2023-11-24T23:09:27.386440Z",
     "shell.execute_reply": "2023-11-24T23:09:27.385269Z",
     "shell.execute_reply.started": "2023-11-24T23:09:27.348138Z"
    },
    "tags": []
   },
   "outputs": [
    {
     "ename": "NameError",
     "evalue": "name 'f_train_loss' is not defined",
     "output_type": "error",
     "traceback": [
      "\u001b[0;31m---------------------------------------------------------------------------\u001b[0m",
      "\u001b[0;31mNameError\u001b[0m                                 Traceback (most recent call last)",
      "\u001b[0;32m<ipython-input-25-3f9abc8cdae4>\u001b[0m in \u001b[0;36m<module>\u001b[0;34m\u001b[0m\n\u001b[0;32m----> 1\u001b[0;31m \u001b[0mprint\u001b[0m\u001b[0;34m(\u001b[0m\u001b[0;34m'training loss for first trainer: %s'\u001b[0m \u001b[0;34m%\u001b[0m \u001b[0mstr\u001b[0m\u001b[0;34m(\u001b[0m\u001b[0mf_train_loss\u001b[0m\u001b[0;34m)\u001b[0m\u001b[0;34m)\u001b[0m\u001b[0;34m\u001b[0m\u001b[0;34m\u001b[0m\u001b[0m\n\u001b[0m\u001b[1;32m      2\u001b[0m \u001b[0mprint\u001b[0m\u001b[0;34m(\u001b[0m\u001b[0;34m'evaluation metric f1-score for first trainer: %s'\u001b[0m \u001b[0;34m%\u001b[0m \u001b[0mstr\u001b[0m\u001b[0;34m(\u001b[0m\u001b[0mf_eval_metric\u001b[0m\u001b[0;34m)\u001b[0m\u001b[0;34m)\u001b[0m\u001b[0;34m\u001b[0m\u001b[0;34m\u001b[0m\u001b[0m\n\u001b[1;32m      3\u001b[0m \u001b[0;31m#\u001b[0m\u001b[0;34m\u001b[0m\u001b[0;34m\u001b[0m\u001b[0m\n",
      "\u001b[0;31mNameError\u001b[0m: name 'f_train_loss' is not defined"
     ]
    }
   ],
   "source": [
    "print('training loss for first trainer: %s' % str(f_train_loss))\n",
    "print('evaluation metric f1-score for first trainer: %s' % str(f_eval_metric))"
   ]
  },
  {
   "cell_type": "code",
   "execution_count": null,
   "metadata": {
    "execution": {
     "iopub.status.busy": "2023-11-24T23:09:27.387295Z",
     "iopub.status.idle": "2023-11-24T23:09:27.387842Z",
     "shell.execute_reply": "2023-11-24T23:09:27.387656Z"
    }
   },
   "outputs": [],
   "source": [
    "plt.figure((20, 30))\n",
    "plt.plot(len(train_history), f_train_history)"
   ]
  },
  {
   "cell_type": "code",
   "execution_count": null,
   "metadata": {
    "execution": {
     "iopub.status.busy": "2023-11-24T23:09:27.389304Z",
     "iopub.status.idle": "2023-11-24T23:09:27.390023Z",
     "shell.execute_reply": "2023-11-24T23:09:27.389816Z"
    },
    "tags": []
   },
   "outputs": [],
   "source": [
    "second_trainer = NetworkTrainer(\n",
    "    network=network,\n",
    "    optimizer=adam_opt,\n",
    "    lr_schediler=adam_step_lr_scheduler,\n",
    "    loss_function=dice_loss,\n",
    "    train_device='cuda',\n",
    "    max_epochs=50,\n",
    "    batch_size=32,\n",
    ")"
   ]
  },
  {
   "cell_type": "code",
   "execution_count": null,
   "metadata": {
    "execution": {
     "iopub.status.busy": "2023-11-24T23:09:27.391050Z",
     "iopub.status.idle": "2023-11-24T23:09:27.391698Z",
     "shell.execute_reply": "2023-11-24T23:09:27.391467Z"
    }
   },
   "outputs": [],
   "source": [
    "%%time\n",
    "s_train_loss, s_train_history = second_trainer.train(s_train_dataset)"
   ]
  },
  {
   "cell_type": "code",
   "execution_count": null,
   "metadata": {
    "execution": {
     "iopub.status.busy": "2023-11-24T23:09:27.393180Z",
     "iopub.status.idle": "2023-11-24T23:09:27.393857Z",
     "shell.execute_reply": "2023-11-24T23:09:27.393655Z"
    }
   },
   "outputs": [],
   "source": [
    "%%time\n",
    "s_eval_metric = second_trainer.evaluate(s_validation_dataset)"
   ]
  },
  {
   "cell_type": "code",
   "execution_count": null,
   "metadata": {
    "execution": {
     "iopub.status.busy": "2023-11-24T23:09:27.395254Z",
     "iopub.status.idle": "2023-11-24T23:09:27.396191Z",
     "shell.execute_reply": "2023-11-24T23:09:27.395940Z"
    }
   },
   "outputs": [],
   "source": [
    "print('training loss for second trainer: %s' % str(s_train_loss))\n",
    "print('evaluation metric f1-score for second trainer: %s' % str(s_eval_metric))"
   ]
  },
  {
   "cell_type": "code",
   "execution_count": null,
   "metadata": {
    "execution": {
     "iopub.status.busy": "2023-11-24T23:09:27.397424Z",
     "iopub.status.idle": "2023-11-24T23:09:27.398295Z",
     "shell.execute_reply": "2023-11-24T23:09:27.398044Z"
    }
   },
   "outputs": [],
   "source": [
    "plt.figure((20, 30))\n",
    "plt.plot(len(train_history), s_train_history)"
   ]
  },
  {
   "cell_type": "markdown",
   "metadata": {},
   "source": [
    "### Saving best trainer to the corresponding file"
   ]
  },
  {
   "cell_type": "code",
   "execution_count": null,
   "metadata": {
    "execution": {
     "iopub.status.busy": "2023-11-24T23:09:27.399659Z",
     "iopub.status.idle": "2023-11-24T23:09:27.400458Z",
     "shell.execute_reply": "2023-11-24T23:09:27.400218Z"
    },
    "tags": []
   },
   "outputs": [],
   "source": [
    "trainers = [first_trainer, second_trainer]\n",
    "metrics = [f_eval_metric, s_eval_metric]\n",
    "sets = [f_train_dataset.imgs[0], s_train_dataset.imgs[0]]\n",
    "best_idx = numpy.argmax(metrics)\n",
    "\n",
    "best_trainer = trainers[best_idx]\n",
    "best_input = sets[best_idx]\n",
    "best_metric = metrics[best_idx]"
   ]
  },
  {
   "cell_type": "markdown",
   "metadata": {
    "tags": []
   },
   "source": [
    "## Converting model to ONNX Format"
   ]
  },
  {
   "cell_type": "code",
   "execution_count": null,
   "metadata": {
    "execution": {
     "iopub.status.busy": "2023-11-24T23:09:27.401871Z",
     "iopub.status.idle": "2023-11-24T23:09:27.402697Z",
     "shell.execute_reply": "2023-11-24T23:09:27.402454Z"
    },
    "tags": []
   },
   "outputs": [],
   "source": [
    "model_path = \"../model/network.onnx\"\n",
    "best_trainer.save_network(model_path, best_input)"
   ]
  }
 ],
 "metadata": {
  "kernelspec": {
   "display_name": "DataSphere Kernel",
   "language": "python",
   "name": "python3"
  },
  "language_info": {
   "codemirror_mode": {
    "name": "ipython",
    "version": 3
   },
   "file_extension": ".py",
   "mimetype": "text/x-python",
   "name": "python",
   "nbconvert_exporter": "python",
   "pygments_lexer": "ipython3",
   "version": "3.7.7"
  }
 },
 "nbformat": 4,
 "nbformat_minor": 4
}
