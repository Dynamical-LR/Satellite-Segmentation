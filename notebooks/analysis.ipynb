{
 "cells": [
  {
   "cell_type": "markdown",
   "metadata": {},
   "source": [
    "## Defining initial modules"
   ]
  },
  {
   "cell_type": "code",
   "execution_count": 1,
   "metadata": {
    "execution": {
     "iopub.execute_input": "2023-11-25T10:00:30.095544Z",
     "iopub.status.busy": "2023-11-25T10:00:30.094869Z",
     "iopub.status.idle": "2023-11-25T10:00:30.171785Z",
     "shell.execute_reply": "2023-11-25T10:00:30.170585Z",
     "shell.execute_reply.started": "2023-11-25T10:00:30.095506Z"
    },
    "tags": []
   },
   "outputs": [],
   "source": [
    "import sys\n",
    "sys.path.append(\"../\")\n",
    "sys.path.append(\"./\")"
   ]
  },
  {
   "cell_type": "code",
   "execution_count": 2,
   "metadata": {
    "execution": {
     "iopub.execute_input": "2023-11-25T10:00:30.196371Z",
     "iopub.status.busy": "2023-11-25T10:00:30.195532Z",
     "iopub.status.idle": "2023-11-25T10:00:32.995970Z",
     "shell.execute_reply": "2023-11-25T10:00:32.994805Z",
     "shell.execute_reply.started": "2023-11-25T10:00:30.196313Z"
    },
    "tags": []
   },
   "outputs": [],
   "source": [
    "import os\n",
    "import pandas\n",
    "import albumentations \n",
    "import matplotlib.pyplot as plt \n",
    "from PIL import Image\n",
    "import numpy\n",
    "import typing\n",
    "import warnings\n",
    "import torch \n",
    "from torch import optim\n",
    "\n",
    "from sklearn.model_selection import train_test_split\n",
    "warnings.filterwarnings(\"ignore\", category=DeprecationWarning)"
   ]
  },
  {
   "cell_type": "markdown",
   "metadata": {},
   "source": [
    "## Defining data urls"
   ]
  },
  {
   "cell_type": "code",
   "execution_count": 3,
   "metadata": {
    "execution": {
     "iopub.execute_input": "2023-11-25T10:00:32.998748Z",
     "iopub.status.busy": "2023-11-25T10:00:32.997645Z",
     "iopub.status.idle": "2023-11-25T10:00:33.035957Z",
     "shell.execute_reply": "2023-11-25T10:00:33.034978Z",
     "shell.execute_reply.started": "2023-11-25T10:00:32.998696Z"
    },
    "tags": []
   },
   "outputs": [],
   "source": [
    "# training images and masks\n",
    "\n",
    "train_images_path = \"../data/train/train/images_size_400/\"\n",
    "train_image_masks_path = \"../data/train/train/masks_size_400/\"\n",
    "\n",
    "# train images and masks\n",
    "\n",
    "first_exp_train_urls = [\n",
    "    (\"../data/train/train/images_size_400/\", \"../data/train/train/masks_size_400/\"),\n",
    "    (\"../data/train/train/images_size_500/\", \"../data/train/train/masks_size_500/\"),\n",
    "    (\"../data/train/train/images_size_600/\", \"../data/train/train/masks_size_600/\"),\n",
    "]\n",
    "\n",
    "first_exp_validation_urls = [\n",
    "    (\"../data/train/_extra/images_size_500/\", \"../data/train/_extra/masks_size_500/\"),\n",
    "]\n",
    "\n",
    "\n",
    "second_exp_train_urls = [\n",
    "    (\"../data/train/train/images_size_500/\", \"../data/train/train/masks_size_500/\"),\n",
    "    (\"../data/train/train/images_size_600/\", \"../data/train/train/masks_size_600/\"),\n",
    "    (\"../data/train/train/images_size_700/\", \"../data/train/train/masks_size_700/\"),\n",
    "]\n",
    "\n",
    "second_exp_validation_urls = [\n",
    "    (\"../data/train/train/images_size_600/\", \"../data/train/train/masks_size_600/\"),\n",
    "]"
   ]
  },
  {
   "cell_type": "markdown",
   "metadata": {},
   "source": [
    "## Loading small batch of images and masks for initial analysis"
   ]
  },
  {
   "cell_type": "code",
   "execution_count": 4,
   "metadata": {
    "execution": {
     "iopub.execute_input": "2023-11-25T10:00:33.038787Z",
     "iopub.status.busy": "2023-11-25T10:00:33.038011Z",
     "iopub.status.idle": "2023-11-25T10:00:33.063820Z",
     "shell.execute_reply": "2023-11-25T10:00:33.062797Z",
     "shell.execute_reply.started": "2023-11-25T10:00:33.038739Z"
    },
    "tags": []
   },
   "outputs": [],
   "source": [
    "def load_files(file_path: str):\n",
    "    \"\"\"\n",
    "    Function loads files from given 'file_path' source\n",
    "    Args:\n",
    "        - file_path - path, pointing to the files directory\n",
    "        - number_of_files - respective number of files to load\n",
    "    \"\"\"\n",
    "    batch = []\n",
    "    for path in os.listdir(file_path):\n",
    "        try:\n",
    "            full_url = os.path.join(file_path, path)\n",
    "            ext = path.split(\".\")[-1]\n",
    "            if ext in ('jpeg', 'png', 'jpg'):\n",
    "                batch.append(full_url)\n",
    "                \n",
    "        except(FileNotFoundError):\n",
    "            print('file not found: %s' % full_url)\n",
    "    return batch"
   ]
  },
  {
   "cell_type": "code",
   "execution_count": 5,
   "metadata": {
    "execution": {
     "iopub.execute_input": "2023-11-25T10:00:33.066172Z",
     "iopub.status.busy": "2023-11-25T10:00:33.065339Z",
     "iopub.status.idle": "2023-11-25T10:00:33.080627Z",
     "shell.execute_reply": "2023-11-25T10:00:33.079594Z",
     "shell.execute_reply.started": "2023-11-25T10:00:33.066104Z"
    },
    "tags": []
   },
   "outputs": [],
   "source": [
    "def load_experiment_data(urls: typing.Tuple[str]):\n",
    "    \"\"\"\n",
    "    Function loads data for experiment\n",
    "    \n",
    "    urls: (img_url, mask_url) - list of tuples, containing\n",
    "    corresponding images and masks with different resolutions\n",
    "    \"\"\"\n",
    "    imgs, masks = [], []\n",
    "    for img_path, mask_path in urls:\n",
    "    \n",
    "        imgs = load_files(file_path=train_images_path)\n",
    "        masks = load_files(file_path=train_image_masks_path)\n",
    "\n",
    "        imgs.extend(imgs)\n",
    "        masks.extend(masks)\n",
    "    return imgs, masks"
   ]
  },
  {
   "cell_type": "markdown",
   "metadata": {},
   "source": [
    "# Loading training and validation sets for first experiment"
   ]
  },
  {
   "cell_type": "code",
   "execution_count": 6,
   "metadata": {
    "execution": {
     "iopub.execute_input": "2023-11-25T10:00:33.082624Z",
     "iopub.status.busy": "2023-11-25T10:00:33.081716Z",
     "iopub.status.idle": "2023-11-25T10:00:33.175978Z",
     "shell.execute_reply": "2023-11-25T10:00:33.174709Z",
     "shell.execute_reply.started": "2023-11-25T10:00:33.082533Z"
    },
    "tags": []
   },
   "outputs": [
    {
     "name": "stdout",
     "output_type": "stream",
     "text": [
      "CPU times: user 50.9 ms, sys: 11.7 ms, total: 62.6 ms\n",
      "Wall time: 65.7 ms\n"
     ]
    }
   ],
   "source": [
    "%%time\n",
    "\n",
    "f_train_imgs, f_train_masks = load_experiment_data(first_exp_train_urls)\n",
    "f_validation_imgs, f_validation_masks = load_experiment_data(first_exp_validation_urls)"
   ]
  },
  {
   "cell_type": "code",
   "execution_count": 7,
   "metadata": {
    "execution": {
     "iopub.execute_input": "2023-11-25T10:00:33.178Z",
     "iopub.status.busy": "2023-11-25T10:00:33.177260Z",
     "iopub.status.idle": "2023-11-25T10:00:33.199841Z",
     "shell.execute_reply": "2023-11-25T10:00:33.198733Z",
     "shell.execute_reply.started": "2023-11-25T10:00:33.177951Z"
    },
    "tags": []
   },
   "outputs": [],
   "source": [
    "first_exp_train_info = pandas.DataFrame(\n",
    "    {\n",
    "        'image': f_train_imgs,\n",
    "        'mask': f_train_masks\n",
    "    }\n",
    ")\n",
    "\n",
    "first_exp_validation_info = pandas.DataFrame(\n",
    "    {\n",
    "        'image': f_validation_imgs,\n",
    "        'mask': f_validation_masks\n",
    "    }\n",
    ")"
   ]
  },
  {
   "cell_type": "markdown",
   "metadata": {},
   "source": [
    "# Loading training and validation sets for second experiment"
   ]
  },
  {
   "cell_type": "code",
   "execution_count": 8,
   "metadata": {
    "execution": {
     "iopub.execute_input": "2023-11-25T10:00:33.201668Z",
     "iopub.status.busy": "2023-11-25T10:00:33.201140Z",
     "iopub.status.idle": "2023-11-25T10:00:33.281069Z",
     "shell.execute_reply": "2023-11-25T10:00:33.279918Z",
     "shell.execute_reply.started": "2023-11-25T10:00:33.201618Z"
    },
    "tags": []
   },
   "outputs": [],
   "source": [
    "s_train_imgs, s_train_masks = load_experiment_data(first_exp_train_urls)\n",
    "s_validation_imgs, s_validation_masks = load_experiment_data(first_exp_validation_urls)"
   ]
  },
  {
   "cell_type": "code",
   "execution_count": 9,
   "metadata": {
    "execution": {
     "iopub.execute_input": "2023-11-25T10:00:33.284903Z",
     "iopub.status.busy": "2023-11-25T10:00:33.284114Z",
     "iopub.status.idle": "2023-11-25T10:00:33.307265Z",
     "shell.execute_reply": "2023-11-25T10:00:33.306255Z",
     "shell.execute_reply.started": "2023-11-25T10:00:33.284852Z"
    },
    "tags": []
   },
   "outputs": [
    {
     "name": "stdout",
     "output_type": "stream",
     "text": [
      "CPU times: user 4.37 ms, sys: 105 µs, total: 4.48 ms\n",
      "Wall time: 3.64 ms\n"
     ]
    }
   ],
   "source": [
    "%%time\n",
    "\n",
    "second_exp_train_info = pandas.DataFrame(\n",
    "    {\n",
    "        'image': s_train_imgs,\n",
    "        'mask': s_train_masks\n",
    "    }\n",
    ")\n",
    "\n",
    "second_exp_validation_info = pandas.DataFrame(\n",
    "    {\n",
    "        'image': s_validation_imgs,\n",
    "        'mask': s_validation_masks\n",
    "    }\n",
    ")"
   ]
  },
  {
   "cell_type": "markdown",
   "metadata": {},
   "source": [
    "# Visualizing images and masks"
   ]
  },
  {
   "cell_type": "code",
   "execution_count": 10,
   "metadata": {
    "execution": {
     "iopub.execute_input": "2023-11-25T10:00:33.309938Z",
     "iopub.status.busy": "2023-11-25T10:00:33.309367Z",
     "iopub.status.idle": "2023-11-25T10:00:33.328261Z",
     "shell.execute_reply": "2023-11-25T10:00:33.327238Z",
     "shell.execute_reply.started": "2023-11-25T10:00:33.309897Z"
    },
    "tags": []
   },
   "outputs": [],
   "source": [
    "import typing\n",
    "\n",
    "def visualize_set_of_images(imgs: typing.List, masks: typing.List):\n",
    "    \"\"\"\n",
    "    Function visualizes image for a given\n",
    "    set of data\n",
    "    \"\"\"\n",
    "    _, ax = plt.subplots(ncols=2, nrows=5)\n",
    "    plt.figure(figsize=(30, 30))\n",
    "\n",
    "    for idx in range(5):\n",
    "        \n",
    "        img = Image.open(imgs[idx])\n",
    "        mask = Image.open(masks[idx])\n",
    "        \n",
    "        ax[idx,0].imshow(img)\n",
    "        ax[idx,1].imshow(mask, cmap='gray')"
   ]
  },
  {
   "cell_type": "markdown",
   "metadata": {},
   "source": [
    "## Visualizing images and masks for training set (first experiment)"
   ]
  },
  {
   "cell_type": "code",
   "execution_count": 11,
   "metadata": {
    "execution": {
     "iopub.execute_input": "2023-11-25T10:00:33.330280Z",
     "iopub.status.busy": "2023-11-25T10:00:33.329463Z",
     "iopub.status.idle": "2023-11-25T10:00:34.914608Z",
     "shell.execute_reply": "2023-11-25T10:00:34.913534Z",
     "shell.execute_reply.started": "2023-11-25T10:00:33.330242Z"
    },
    "tags": []
   },
   "outputs": [
    {
     "data": {
      "image/png": "[encoded data removed]",
      "text/plain": [
       "<Figure size 432x288 with 10 Axes>"
      ]
     },
     "metadata": {
      "needs_background": "light"
     },
     "output_type": "display_data"
    },
    {
     "data": {
      "text/plain": [
       "<Figure size 2160x2160 with 0 Axes>"
      ]
     },
     "metadata": {},
     "output_type": "display_data"
    }
   ],
   "source": [
    "visualize_set_of_images(f_train_imgs, f_train_masks)"
   ]
  },
  {
   "cell_type": "markdown",
   "metadata": {},
   "source": [
    "## Visualizing images and masks for validation set (first experiment)"
   ]
  },
  {
   "cell_type": "code",
   "execution_count": 12,
   "metadata": {
    "execution": {
     "iopub.execute_input": "2023-11-25T10:00:34.916755Z",
     "iopub.status.busy": "2023-11-25T10:00:34.915908Z",
     "iopub.status.idle": "2023-11-25T10:00:36.522991Z",
     "shell.execute_reply": "2023-11-25T10:00:36.521906Z",
     "shell.execute_reply.started": "2023-11-25T10:00:34.916706Z"
    },
    "tags": []
   },
   "outputs": [
    {
     "data": {
      "image/png": "[encoded data removed]",
      "text/plain": [
       "<Figure size 432x288 with 10 Axes>"
      ]
     },
     "metadata": {
      "needs_background": "light"
     },
     "output_type": "display_data"
    },
    {
     "data": {
      "text/plain": [
       "<Figure size 2160x2160 with 0 Axes>"
      ]
     },
     "metadata": {},
     "output_type": "display_data"
    }
   ],
   "source": [
    "visualize_set_of_images(f_validation_imgs, f_validation_masks)"
   ]
  },
  {
   "cell_type": "markdown",
   "metadata": {},
   "source": [
    "## Defining Augmentation Pipeline"
   ]
  },
  {
   "cell_type": "code",
   "execution_count": 13,
   "metadata": {
    "execution": {
     "iopub.execute_input": "2023-11-25T10:00:36.525325Z",
     "iopub.status.busy": "2023-11-25T10:00:36.524575Z",
     "iopub.status.idle": "2023-11-25T10:00:36.537923Z",
     "shell.execute_reply": "2023-11-25T10:00:36.536831Z",
     "shell.execute_reply.started": "2023-11-25T10:00:36.525290Z"
    },
    "tags": []
   },
   "outputs": [],
   "source": [
    "train_color_transformations = albumentations.Compose(\n",
    "    [\n",
    "        albumentations.OneOf([\n",
    "            albumentations.ColorJitter(\n",
    "                brightness=0.15,\n",
    "                hue=0.15,\n",
    "                saturation=0.15\n",
    "            ),\n",
    "            albumentations.FancyPCA()\n",
    "        ])\n",
    "    ]\n",
    ")"
   ]
  },
  {
   "cell_type": "markdown",
   "metadata": {},
   "source": [
    "## Defining Datasets for first experiment"
   ]
  },
  {
   "cell_type": "code",
   "execution_count": 14,
   "metadata": {
    "execution": {
     "iopub.execute_input": "2023-11-25T10:00:36.539837Z",
     "iopub.status.busy": "2023-11-25T10:00:36.539303Z",
     "iopub.status.idle": "2023-11-25T10:00:36.559209Z",
     "shell.execute_reply": "2023-11-25T10:00:36.558140Z",
     "shell.execute_reply.started": "2023-11-25T10:00:36.539801Z"
    },
    "tags": []
   },
   "outputs": [],
   "source": [
    "from dataset.dataset import SegmentationDataset \n",
    "\n",
    "f_train_dataset = SegmentationDataset(\n",
    "    imgs=first_exp_train_info['image'].tolist(),\n",
    "    masks=first_exp_train_info['mask'].tolist(),\n",
    "    color_transformations=train_color_transformations\n",
    ")\n",
    "\n",
    "f_validation_dataset = SegmentationDataset(\n",
    "    imgs=first_exp_validation_info['image'].tolist(),\n",
    "    masks=first_exp_validation_info['mask'].tolist(),\n",
    ")"
   ]
  },
  {
   "cell_type": "markdown",
   "metadata": {},
   "source": [
    "## Defining datasets for second experiment"
   ]
  },
  {
   "cell_type": "code",
   "execution_count": 15,
   "metadata": {
    "execution": {
     "iopub.execute_input": "2023-11-25T10:00:36.561347Z",
     "iopub.status.busy": "2023-11-25T10:00:36.560494Z",
     "iopub.status.idle": "2023-11-25T10:00:36.574989Z",
     "shell.execute_reply": "2023-11-25T10:00:36.573911Z",
     "shell.execute_reply.started": "2023-11-25T10:00:36.561298Z"
    },
    "tags": []
   },
   "outputs": [],
   "source": [
    "s_train_dataset = SegmentationDataset(\n",
    "    imgs=second_exp_train_info['image'].tolist(),\n",
    "    masks=second_exp_train_info['mask'].tolist(),\n",
    "    color_transformations=train_color_transformations\n",
    ")\n",
    "\n",
    "s_validation_dataset = SegmentationDataset(\n",
    "    imgs=second_exp_validation_info['image'].tolist(),\n",
    "    masks=second_exp_validation_info['mask'].tolist()\n",
    ")"
   ]
  },
  {
   "cell_type": "markdown",
   "metadata": {},
   "source": [
    "# Beginning of experiments."
   ]
  },
  {
   "cell_type": "markdown",
   "metadata": {},
   "source": [
    "### Defining loss functions and evaluation metrics for experiments"
   ]
  },
  {
   "cell_type": "code",
   "execution_count": 16,
   "metadata": {
    "execution": {
     "iopub.execute_input": "2023-11-25T10:00:36.577148Z",
     "iopub.status.busy": "2023-11-25T10:00:36.576331Z",
     "iopub.status.idle": "2023-11-25T10:00:36.593774Z",
     "shell.execute_reply": "2023-11-25T10:00:36.592774Z",
     "shell.execute_reply.started": "2023-11-25T10:00:36.577107Z"
    },
    "tags": []
   },
   "outputs": [],
   "source": [
    "from losses.losses import DiceLoss, FocalLoss, ComboLoss\n",
    "\n",
    "focal_gamma = 2\n",
    "\n",
    "dice_loss = DiceLoss()\n",
    "focal_loss = FocalLoss(gamma=focal_gamma)\n",
    "\n",
    "combo_loss = ComboLoss(\n",
    "    dice_prop=0.4, \n",
    "    focal_prop=0.6, \n",
    "    focal_gamma=focal_gamma\n",
    ")"
   ]
  },
  {
   "cell_type": "markdown",
   "metadata": {
    "execution": {
     "iopub.status.busy": "2023-11-24T14:57:51.102136Z",
     "iopub.status.idle": "2023-11-24T14:57:51.103131Z",
     "shell.execute_reply": "2023-11-24T14:57:51.102890Z"
    }
   },
   "source": [
    "### Defining network for experiment"
   ]
  },
  {
   "cell_type": "code",
   "execution_count": 17,
   "metadata": {
    "execution": {
     "iopub.execute_input": "2023-11-25T10:00:36.595485Z",
     "iopub.status.busy": "2023-11-25T10:00:36.594803Z",
     "iopub.status.idle": "2023-11-25T10:00:36.725707Z",
     "shell.execute_reply": "2023-11-25T10:00:36.724439Z",
     "shell.execute_reply.started": "2023-11-25T10:00:36.595452Z"
    },
    "tags": []
   },
   "outputs": [],
   "source": [
    "from networks import unet\n",
    "network = unet.UNet()"
   ]
  },
  {
   "cell_type": "markdown",
   "metadata": {
    "execution": {
     "iopub.status.busy": "2023-11-24T14:57:51.106199Z",
     "iopub.status.idle": "2023-11-24T14:57:51.107129Z",
     "shell.execute_reply": "2023-11-24T14:57:51.106924Z"
    }
   },
   "source": [
    "### Defining optimizers and learning rate "
   ]
  },
  {
   "cell_type": "code",
   "execution_count": 18,
   "metadata": {
    "execution": {
     "iopub.execute_input": "2023-11-25T10:00:36.728127Z",
     "iopub.status.busy": "2023-11-25T10:00:36.727159Z",
     "iopub.status.idle": "2023-11-25T10:00:36.740955Z",
     "shell.execute_reply": "2023-11-25T10:00:36.739865Z",
     "shell.execute_reply.started": "2023-11-25T10:00:36.728067Z"
    },
    "tags": []
   },
   "outputs": [],
   "source": [
    "learning_rate = 3e-6\n",
    "adam_opt = optim.Adam(params=network.parameters(), lr=learning_rate, weight_decay=1e-5)\n",
    "sgd_opt = optim.SGD(params=network.parameters(), lr=learning_rate)"
   ]
  },
  {
   "cell_type": "markdown",
   "metadata": {},
   "source": [
    "### Defining lr scheduling techniques"
   ]
  },
  {
   "cell_type": "code",
   "execution_count": 19,
   "metadata": {
    "execution": {
     "iopub.execute_input": "2023-11-25T10:00:36.742979Z",
     "iopub.status.busy": "2023-11-25T10:00:36.742272Z",
     "iopub.status.idle": "2023-11-25T10:00:36.764686Z",
     "shell.execute_reply": "2023-11-25T10:00:36.763633Z",
     "shell.execute_reply.started": "2023-11-25T10:00:36.742945Z"
    },
    "tags": []
   },
   "outputs": [],
   "source": [
    "from torch.optim import lr_scheduler\n",
    "\n",
    "reduction_gamma = 0.0001\n",
    "step_size = 5\n",
    "patience_epochs = 5\n",
    "\n",
    "adam_step_scheduler = lr_scheduler.StepLR(\n",
    "    optimizer=adam_opt,\n",
    "    step_size=step_size, \n",
    "    gamma=reduction_gamma\n",
    ")\n",
    "\n",
    "sgd_step_scheduler = lr_scheduler.StepLR(\n",
    "    optimizer=sgd_opt,\n",
    "    step_size=step_size, \n",
    "    gamma=reduction_gamma\n",
    ")\n",
    "\n",
    "adam_plateau_scheduler = lr_scheduler.ReduceLROnPlateau(\n",
    "    adam_opt, mode='min', \n",
    "    factor=0.1,\n",
    "    patience=patience_epochs, \n",
    "    min_lr=learning_rate\n",
    ")\n",
    "\n",
    "sgd_plateau_scheduler = lr_scheduler.ReduceLROnPlateau(\n",
    "    sgd_opt, mode='min', \n",
    "    factor=0.1,\n",
    "    patience=patience_epochs, \n",
    "    min_lr=learning_rate\n",
    ")"
   ]
  },
  {
   "cell_type": "markdown",
   "metadata": {},
   "source": [
    "# Defining early stopping dataset for regularization of the Network"
   ]
  },
  {
   "cell_type": "code",
   "execution_count": 20,
   "metadata": {
    "execution": {
     "iopub.execute_input": "2023-11-25T10:00:36.766251Z",
     "iopub.status.busy": "2023-11-25T10:00:36.765732Z",
     "iopub.status.idle": "2023-11-25T10:00:36.793448Z",
     "shell.execute_reply": "2023-11-25T10:00:36.792334Z",
     "shell.execute_reply.started": "2023-11-25T10:00:36.766218Z"
    },
    "tags": []
   },
   "outputs": [],
   "source": [
    "total_objs = round(len(f_validation_dataset) * 0.10)\n",
    "\n",
    "_, early_indices = train_test_split(\n",
    "    numpy.arange(len(f_validation_dataset)), \n",
    "    test_size=total_objs\n",
    ")\n",
    "\n",
    "early_stopping_imgs = first_exp_validation_info['image'][early_indices].tolist()\n",
    "early_stopping_masks = first_exp_validation_info['mask'][early_indices].tolist()\n",
    "\n",
    "early_stopping_dataset = SegmentationDataset(\n",
    "    imgs=early_stopping_imgs,\n",
    "    masks=early_stopping_masks\n",
    ")"
   ]
  },
  {
   "cell_type": "markdown",
   "metadata": {},
   "source": [
    "### Importing network trainer"
   ]
  },
  {
   "cell_type": "code",
   "execution_count": 21,
   "metadata": {
    "execution": {
     "iopub.execute_input": "2023-11-25T10:00:36.795129Z",
     "iopub.status.busy": "2023-11-25T10:00:36.794680Z",
     "iopub.status.idle": "2023-11-25T10:00:36.834875Z",
     "shell.execute_reply": "2023-11-25T10:00:36.833805Z",
     "shell.execute_reply.started": "2023-11-25T10:00:36.795097Z"
    },
    "tags": []
   },
   "outputs": [],
   "source": [
    "from network_trainer.network_trainer import NetworkTrainer"
   ]
  },
  {
   "cell_type": "code",
   "execution_count": 34,
   "metadata": {
    "execution": {
     "iopub.execute_input": "2023-11-25T10:06:33.901999Z",
     "iopub.status.busy": "2023-11-25T10:06:33.901020Z",
     "iopub.status.idle": "2023-11-25T10:06:33.917640Z",
     "shell.execute_reply": "2023-11-25T10:06:33.916432Z",
     "shell.execute_reply.started": "2023-11-25T10:06:33.901924Z"
    },
    "tags": []
   },
   "outputs": [],
   "source": [
    "trainer = NetworkTrainer(\n",
    "    network=network,\n",
    "    optimizer=adam_opt,\n",
    "    lr_scheduler=adam_step_scheduler,\n",
    "    loss_function=focal_loss,\n",
    "    train_device='cuda',\n",
    "    max_image_height=5000,\n",
    "    max_image_width=5000,\n",
    "    max_epochs=20,\n",
    "    batch_size=32,\n",
    ")"
   ]
  },
  {
   "cell_type": "code",
   "execution_count": null,
   "metadata": {
    "execution": {
     "iopub.execute_input": "2023-11-25T10:06:34.243347Z",
     "iopub.status.busy": "2023-11-25T10:06:34.242380Z"
    },
    "tags": []
   },
   "outputs": [
    {
     "name": "stderr",
     "output_type": "stream",
     "text": [
      "100%|██████████| 278/278 [03:25<00:00,  1.36it/s]\n"
     ]
    },
    {
     "name": "stdout",
     "output_type": "stream",
     "text": [
      "0 epochs passed\n"
     ]
    },
    {
     "name": "stderr",
     "output_type": "stream",
     "text": [
      "100%|██████████| 278/278 [03:23<00:00,  1.36it/s]\n"
     ]
    },
    {
     "name": "stdout",
     "output_type": "stream",
     "text": [
      "1 epochs passed\n"
     ]
    },
    {
     "name": "stderr",
     "output_type": "stream",
     "text": [
      "100%|██████████| 278/278 [03:23<00:00,  1.36it/s]\n"
     ]
    },
    {
     "name": "stdout",
     "output_type": "stream",
     "text": [
      "2 epochs passed\n"
     ]
    },
    {
     "name": "stderr",
     "output_type": "stream",
     "text": [
      "100%|██████████| 278/278 [03:25<00:00,  1.36it/s]\n"
     ]
    },
    {
     "name": "stdout",
     "output_type": "stream",
     "text": [
      "3 epochs passed\n"
     ]
    },
    {
     "name": "stderr",
     "output_type": "stream",
     "text": [
      "100%|██████████| 278/278 [03:24<00:00,  1.36it/s]\n"
     ]
    },
    {
     "name": "stdout",
     "output_type": "stream",
     "text": [
      "4 epochs passed\n"
     ]
    },
    {
     "name": "stderr",
     "output_type": "stream",
     "text": [
      "100%|██████████| 278/278 [03:24<00:00,  1.36it/s]\n"
     ]
    },
    {
     "name": "stdout",
     "output_type": "stream",
     "text": [
      "5 epochs passed\n"
     ]
    },
    {
     "name": "stderr",
     "output_type": "stream",
     "text": [
      "100%|██████████| 278/278 [03:25<00:00,  1.35it/s]\n"
     ]
    },
    {
     "name": "stdout",
     "output_type": "stream",
     "text": [
      "6 epochs passed\n"
     ]
    },
    {
     "name": "stderr",
     "output_type": "stream",
     "text": [
      "100%|██████████| 278/278 [03:22<00:00,  1.37it/s]\n"
     ]
    },
    {
     "name": "stdout",
     "output_type": "stream",
     "text": [
      "7 epochs passed\n"
     ]
    },
    {
     "name": "stderr",
     "output_type": "stream",
     "text": [
      "100%|██████████| 278/278 [03:23<00:00,  1.37it/s]\n"
     ]
    },
    {
     "name": "stdout",
     "output_type": "stream",
     "text": [
      "8 epochs passed\n"
     ]
    },
    {
     "name": "stderr",
     "output_type": "stream",
     "text": [
      "100%|██████████| 278/278 [03:25<00:00,  1.35it/s]\n"
     ]
    },
    {
     "name": "stdout",
     "output_type": "stream",
     "text": [
      "9 epochs passed\n"
     ]
    },
    {
     "name": "stderr",
     "output_type": "stream",
     "text": [
      " 15%|█▍        | 41/278 [00:28<02:56,  1.34it/s]"
     ]
    }
   ],
   "source": [
    "%%time\n",
    "train_loss, train_history = trainer.train(f_train_dataset)"
   ]
  },
  {
   "cell_type": "code",
   "execution_count": null,
   "metadata": {
    "tags": []
   },
   "outputs": [],
   "source": [
    "print('training loss for first trainer: %s' % str(f_train_loss))"
   ]
  },
  {
   "cell_type": "code",
   "execution_count": null,
   "metadata": {
    "tags": []
   },
   "outputs": [],
   "source": [
    "plt.figure(figsize=(10, 10))\n",
    "plt.plot(numpy.arange(len((f_train_history))), f_train_history)\n",
    "plt.title(\"Training loss for the first experiment\")"
   ]
  },
  {
   "cell_type": "markdown",
   "metadata": {},
   "source": [
    "# Evaluating network on validation set"
   ]
  },
  {
   "cell_type": "code",
   "execution_count": null,
   "metadata": {
    "tags": []
   },
   "outputs": [],
   "source": [
    "%%time\n",
    "f_eval_metric = trainer.evaluate(f_validation_dataset)"
   ]
  },
  {
   "cell_type": "code",
   "execution_count": null,
   "metadata": {
    "tags": []
   },
   "outputs": [],
   "source": [
    "import cv2\n",
    "\n",
    "fg, ax = plt.subplots(ncols=2, nrows=5, figsize=(20, 30))\n",
    "for idx in range(5):\n",
    "    img_url, mask_url = f_validation_dataset.imgs[0], f_validation_dataset.masks[0]\n",
    "    mask = cv2.imread(mask_url, cv2.IMREAD_UNCHANGED)\n",
    "    predicted_mask = trainer.predict([img_url])[0]\n",
    "    ax[idx, 0].imshow(predicted_mask, cmap='gray')\n",
    "    ax[idx, 1].imshow(mask, cmap='gray')"
   ]
  },
  {
   "cell_type": "code",
   "execution_count": null,
   "metadata": {
    "tags": []
   },
   "outputs": [],
   "source": [
    "print('evaluation metric f1-score for first trainer: %s' % str(f_eval_metric))"
   ]
  },
  {
   "cell_type": "markdown",
   "metadata": {
    "execution": {
     "iopub.status.busy": "2023-11-25T09:54:07.389966Z",
     "iopub.status.idle": "2023-11-25T09:54:07.390736Z",
     "shell.execute_reply": "2023-11-25T09:54:07.390414Z"
    }
   },
   "source": [
    "# Loading testing data"
   ]
  },
  {
   "cell_type": "code",
   "execution_count": null,
   "metadata": {
    "tags": []
   },
   "outputs": [],
   "source": [
    "test_images = load_files(\"../test_data/\")"
   ]
  },
  {
   "cell_type": "code",
   "execution_count": null,
   "metadata": {
    "tags": []
   },
   "outputs": [],
   "source": [
    "import cv2\n",
    "non_test_files = [cv2.imread(img_url, cv2.IMREAD_UNCHANGED) for img_url in test_images]"
   ]
  },
  {
   "cell_type": "code",
   "execution_count": null,
   "metadata": {
    "tags": []
   },
   "outputs": [],
   "source": [
    "predicted_masks = trainer.predict(test_images)"
   ]
  },
  {
   "cell_type": "code",
   "execution_count": null,
   "metadata": {
    "tags": []
   },
   "outputs": [],
   "source": [
    "for mask in predicted_masks:\n",
    "    plt.imshow(mask)"
   ]
  },
  {
   "cell_type": "markdown",
   "metadata": {
    "tags": []
   },
   "source": [
    "## Converting model to ONNX Format"
   ]
  },
  {
   "cell_type": "code",
   "execution_count": null,
   "metadata": {
    "execution": {
     "iopub.status.busy": "2023-11-25T10:01:33.036834Z",
     "iopub.status.idle": "2023-11-25T10:01:33.037528Z",
     "shell.execute_reply": "2023-11-25T10:01:33.037326Z"
    },
    "tags": []
   },
   "outputs": [],
   "source": [
    "model_path = \"../final_model/network.onnx\"\n",
    "trainer.save_network(model_path, best_input)"
   ]
  }
 ],
 "metadata": {
  "kernelspec": {
   "display_name": "DataSphere Kernel",
   "language": "python",
   "name": "python3"
  },
  "language_info": {
   "codemirror_mode": {
    "name": "ipython",
    "version": 3
   },
   "file_extension": ".py",
   "mimetype": "text/x-python",
   "name": "python",
   "nbconvert_exporter": "python",
   "pygments_lexer": "ipython3",
   "version": "3.7.7"
  }
 },
 "nbformat": 4,
 "nbformat_minor": 4
}
